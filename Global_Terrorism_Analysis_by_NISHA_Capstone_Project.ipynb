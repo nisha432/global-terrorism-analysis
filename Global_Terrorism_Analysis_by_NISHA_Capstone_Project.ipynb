{
  "cells": [
    {
      "cell_type": "markdown",
      "metadata": {
        "id": "view-in-github",
        "colab_type": "text"
      },
      "source": [
        "<a href=\"https://colab.research.google.com/github/nisha432/global-terrorism-analysis/blob/main/Global_Terrorism_Analysis_by_NISHA_Capstone_Project.ipynb\" target=\"_parent\"><img src=\"https://colab.research.google.com/assets/colab-badge.svg\" alt=\"Open In Colab\"/></a>"
      ]
    },
    {
      "cell_type": "markdown",
      "metadata": {
        "id": "Y06xIdG26kRF"
      },
      "source": [
        "## <b> The Global Terrorism Database (GTD) is an open-source database including information on terrorist attacks around the world from 1970 through 2017. The GTD includes systematic data on domestic as well as international terrorist incidents that have occurred during this time period and now includes more than 180,000 attacks. The database is maintained by researchers at the National Consortium for the Study of Terrorism and Responses to Terrorism (START), headquartered at the University of Maryland.</b>\n",
        "\n",
        "# <b> Explore and analyze the data to discover key findings pertaining to terrorist activities. </b>"
      ]
    },
    {
      "cell_type": "markdown",
      "metadata": {
        "id": "gU-3RFmfsI-J"
      },
      "source": [
        "Terrorist attacks pose a great threat to global security, and their analysis and prediction are imperative. Considering the high frequency of terrorist attacks and the inherent difficulty in finding related terrorist organizations, I propose a classification framework based on ensemble learning for classifying and predicting most active terrorist organizations,world's terrorism hotspots,their target groups,their attack types ,weapons used and much more insights from the given database.\n",
        "\n",
        "\n",
        "\n",
        "\n"
      ]
    },
    {
      "cell_type": "markdown",
      "metadata": {
        "id": "bsSimb2Q1pbq"
      },
      "source": [
        "![45.jpg](data:image/jpeg;base64,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)"
      ]
    },
    {
      "cell_type": "code",
      "execution_count": null,
      "metadata": {
        "id": "AHBnqIfX12ct"
      },
      "outputs": [],
      "source": [
        "# Importing required libraries\n",
        "import numpy as np\n",
        "import pandas as pd\n",
        "import matplotlib.pyplot as plt\n",
        "import seaborn as snb\n",
        "import plotly.express as px"
      ]
    },
    {
      "cell_type": "code",
      "execution_count": null,
      "metadata": {
        "colab": {
          "base_uri": "https://localhost:8080/"
        },
        "id": "9Hq6U6x012ZJ",
        "outputId": "f26f7245-53bb-45a8-88cd-10bfa99b1bb2"
      },
      "outputs": [
        {
          "name": "stdout",
          "output_type": "stream",
          "text": [
            "Drive already mounted at /content/drive/; to attempt to forcibly remount, call drive.mount(\"/content/drive/\", force_remount=True).\n"
          ]
        }
      ],
      "source": [
        "# Mounting Google Drive \n",
        "from google.colab import drive\n",
        "drive.mount('/content/drive/')"
      ]
    },
    {
      "cell_type": "code",
      "execution_count": null,
      "metadata": {
        "id": "zPQOhdZm12Rf"
      },
      "outputs": [],
      "source": [
        "#Loading the data \n",
        "path='/content/drive/MyDrive/AlmaBetter/capstone project /Global Terrorism Data (2).csv'"
      ]
    },
    {
      "cell_type": "code",
      "execution_count": null,
      "metadata": {
        "colab": {
          "base_uri": "https://localhost:8080/"
        },
        "id": "ZRmwPqqc12MD",
        "outputId": "047bd443-3f7c-41e3-f9f4-1c0d4cdc1deb"
      },
      "outputs": [
        {
          "name": "stderr",
          "output_type": "stream",
          "text": [
            "/usr/local/lib/python3.8/dist-packages/IPython/core/interactiveshell.py:3326: DtypeWarning: Columns (4,6,31,33,61,62,63,76,79,90,92,94,96,114,115,121) have mixed types.Specify dtype option on import or set low_memory=False.\n",
            "  exec(code_obj, self.user_global_ns, self.user_ns)\n"
          ]
        }
      ],
      "source": [
        "#Importing the data using read.csv\n",
        "database=pd.read_csv(path,encoding='latin-1')"
      ]
    },
    {
      "cell_type": "markdown",
      "metadata": {
        "id": "l3O4Dncjs2n7"
      },
      "source": [
        "*NOTES-* The latin-1 encoding in Python implements ISO_8859-1:1987 which maps all possible byte values to the first 256 Unicode code points, and thus ensures decoding errors will never occur regardless of the configured error handler."
      ]
    },
    {
      "cell_type": "markdown",
      "metadata": {
        "id": "QtqGYEBPubS3"
      },
      "source": [
        "### ** KNOWING THE GLOBAL TERRORISM DATABASE **"
      ]
    },
    {
      "cell_type": "code",
      "execution_count": null,
      "metadata": {
        "colab": {
          "base_uri": "https://localhost:8080/"
        },
        "id": "uiZVsj4S12JP",
        "outputId": "fdd604a6-d1bc-41fa-ef28-7948a73e6abc"
      },
      "outputs": [
        {
          "data": {
            "text/html": [
              "\n",
              "  <div id=\"df-221c0a00-6e23-48d2-86c2-76100145e5e9\">\n",
              "    <div class=\"colab-df-container\">\n",
              "      <div>\n",
              "<style scoped>\n",
              "    .dataframe tbody tr th:only-of-type {\n",
              "        vertical-align: middle;\n",
              "    }\n",
              "\n",
              "    .dataframe tbody tr th {\n",
              "        vertical-align: top;\n",
              "    }\n",
              "\n",
              "    .dataframe thead th {\n",
              "        text-align: right;\n",
              "    }\n",
              "</style>\n",
              "<table border=\"1\" class=\"dataframe\">\n",
              "  <thead>\n",
              "    <tr style=\"text-align: right;\">\n",
              "      <th></th>\n",
              "      <th>eventid</th>\n",
              "      <th>iyear</th>\n",
              "      <th>imonth</th>\n",
              "      <th>iday</th>\n",
              "      <th>approxdate</th>\n",
              "      <th>extended</th>\n",
              "      <th>resolution</th>\n",
              "      <th>country</th>\n",
              "      <th>country_txt</th>\n",
              "      <th>region</th>\n",
              "      <th>...</th>\n",
              "      <th>addnotes</th>\n",
              "      <th>scite1</th>\n",
              "      <th>scite2</th>\n",
              "      <th>scite3</th>\n",
              "      <th>dbsource</th>\n",
              "      <th>INT_LOG</th>\n",
              "      <th>INT_IDEO</th>\n",
              "      <th>INT_MISC</th>\n",
              "      <th>INT_ANY</th>\n",
              "      <th>related</th>\n",
              "    </tr>\n",
              "  </thead>\n",
              "  <tbody>\n",
              "    <tr>\n",
              "      <th>0</th>\n",
              "      <td>197000000001</td>\n",
              "      <td>1970</td>\n",
              "      <td>7</td>\n",
              "      <td>2</td>\n",
              "      <td>NaN</td>\n",
              "      <td>0</td>\n",
              "      <td>NaN</td>\n",
              "      <td>58</td>\n",
              "      <td>Dominican Republic</td>\n",
              "      <td>2</td>\n",
              "      <td>...</td>\n",
              "      <td>NaN</td>\n",
              "      <td>NaN</td>\n",
              "      <td>NaN</td>\n",
              "      <td>NaN</td>\n",
              "      <td>PGIS</td>\n",
              "      <td>0</td>\n",
              "      <td>0</td>\n",
              "      <td>0</td>\n",
              "      <td>0</td>\n",
              "      <td>NaN</td>\n",
              "    </tr>\n",
              "    <tr>\n",
              "      <th>1</th>\n",
              "      <td>197000000002</td>\n",
              "      <td>1970</td>\n",
              "      <td>0</td>\n",
              "      <td>0</td>\n",
              "      <td>NaN</td>\n",
              "      <td>0</td>\n",
              "      <td>NaN</td>\n",
              "      <td>130</td>\n",
              "      <td>Mexico</td>\n",
              "      <td>1</td>\n",
              "      <td>...</td>\n",
              "      <td>NaN</td>\n",
              "      <td>NaN</td>\n",
              "      <td>NaN</td>\n",
              "      <td>NaN</td>\n",
              "      <td>PGIS</td>\n",
              "      <td>0</td>\n",
              "      <td>1</td>\n",
              "      <td>1</td>\n",
              "      <td>1</td>\n",
              "      <td>NaN</td>\n",
              "    </tr>\n",
              "    <tr>\n",
              "      <th>2</th>\n",
              "      <td>197001000001</td>\n",
              "      <td>1970</td>\n",
              "      <td>1</td>\n",
              "      <td>0</td>\n",
              "      <td>NaN</td>\n",
              "      <td>0</td>\n",
              "      <td>NaN</td>\n",
              "      <td>160</td>\n",
              "      <td>Philippines</td>\n",
              "      <td>5</td>\n",
              "      <td>...</td>\n",
              "      <td>NaN</td>\n",
              "      <td>NaN</td>\n",
              "      <td>NaN</td>\n",
              "      <td>NaN</td>\n",
              "      <td>PGIS</td>\n",
              "      <td>-9</td>\n",
              "      <td>-9</td>\n",
              "      <td>1</td>\n",
              "      <td>1</td>\n",
              "      <td>NaN</td>\n",
              "    </tr>\n",
              "    <tr>\n",
              "      <th>3</th>\n",
              "      <td>197001000002</td>\n",
              "      <td>1970</td>\n",
              "      <td>1</td>\n",
              "      <td>0</td>\n",
              "      <td>NaN</td>\n",
              "      <td>0</td>\n",
              "      <td>NaN</td>\n",
              "      <td>78</td>\n",
              "      <td>Greece</td>\n",
              "      <td>8</td>\n",
              "      <td>...</td>\n",
              "      <td>NaN</td>\n",
              "      <td>NaN</td>\n",
              "      <td>NaN</td>\n",
              "      <td>NaN</td>\n",
              "      <td>PGIS</td>\n",
              "      <td>-9</td>\n",
              "      <td>-9</td>\n",
              "      <td>1</td>\n",
              "      <td>1</td>\n",
              "      <td>NaN</td>\n",
              "    </tr>\n",
              "    <tr>\n",
              "      <th>4</th>\n",
              "      <td>197001000003</td>\n",
              "      <td>1970</td>\n",
              "      <td>1</td>\n",
              "      <td>0</td>\n",
              "      <td>NaN</td>\n",
              "      <td>0</td>\n",
              "      <td>NaN</td>\n",
              "      <td>101</td>\n",
              "      <td>Japan</td>\n",
              "      <td>4</td>\n",
              "      <td>...</td>\n",
              "      <td>NaN</td>\n",
              "      <td>NaN</td>\n",
              "      <td>NaN</td>\n",
              "      <td>NaN</td>\n",
              "      <td>PGIS</td>\n",
              "      <td>-9</td>\n",
              "      <td>-9</td>\n",
              "      <td>1</td>\n",
              "      <td>1</td>\n",
              "      <td>NaN</td>\n",
              "    </tr>\n",
              "    <tr>\n",
              "      <th>...</th>\n",
              "      <td>...</td>\n",
              "      <td>...</td>\n",
              "      <td>...</td>\n",
              "      <td>...</td>\n",
              "      <td>...</td>\n",
              "      <td>...</td>\n",
              "      <td>...</td>\n",
              "      <td>...</td>\n",
              "      <td>...</td>\n",
              "      <td>...</td>\n",
              "      <td>...</td>\n",
              "      <td>...</td>\n",
              "      <td>...</td>\n",
              "      <td>...</td>\n",
              "      <td>...</td>\n",
              "      <td>...</td>\n",
              "      <td>...</td>\n",
              "      <td>...</td>\n",
              "      <td>...</td>\n",
              "      <td>...</td>\n",
              "      <td>...</td>\n",
              "    </tr>\n",
              "    <tr>\n",
              "      <th>18156</th>\n",
              "      <td>198302220003</td>\n",
              "      <td>1983</td>\n",
              "      <td>2</td>\n",
              "      <td>22</td>\n",
              "      <td>NaN</td>\n",
              "      <td>0</td>\n",
              "      <td>NaN</td>\n",
              "      <td>45</td>\n",
              "      <td>Colombia</td>\n",
              "      <td>3</td>\n",
              "      <td>...</td>\n",
              "      <td>NaN</td>\n",
              "      <td>NaN</td>\n",
              "      <td>NaN</td>\n",
              "      <td>NaN</td>\n",
              "      <td>PGIS</td>\n",
              "      <td>-9</td>\n",
              "      <td>-9</td>\n",
              "      <td>0</td>\n",
              "      <td>-9</td>\n",
              "      <td>NaN</td>\n",
              "    </tr>\n",
              "    <tr>\n",
              "      <th>18157</th>\n",
              "      <td>198302220004</td>\n",
              "      <td>1983</td>\n",
              "      <td>2</td>\n",
              "      <td>22</td>\n",
              "      <td>NaN</td>\n",
              "      <td>0</td>\n",
              "      <td>NaN</td>\n",
              "      <td>603</td>\n",
              "      <td>United Kingdom</td>\n",
              "      <td>8</td>\n",
              "      <td>...</td>\n",
              "      <td>NaN</td>\n",
              "      <td>NaN</td>\n",
              "      <td>NaN</td>\n",
              "      <td>NaN</td>\n",
              "      <td>PGIS</td>\n",
              "      <td>0</td>\n",
              "      <td>0</td>\n",
              "      <td>1</td>\n",
              "      <td>1</td>\n",
              "      <td>NaN</td>\n",
              "    </tr>\n",
              "    <tr>\n",
              "      <th>18158</th>\n",
              "      <td>198302220005</td>\n",
              "      <td>1983</td>\n",
              "      <td>2</td>\n",
              "      <td>22</td>\n",
              "      <td>NaN</td>\n",
              "      <td>0</td>\n",
              "      <td>NaN</td>\n",
              "      <td>61</td>\n",
              "      <td>El Salvador</td>\n",
              "      <td>2</td>\n",
              "      <td>...</td>\n",
              "      <td>NaN</td>\n",
              "      <td>NaN</td>\n",
              "      <td>NaN</td>\n",
              "      <td>NaN</td>\n",
              "      <td>PGIS</td>\n",
              "      <td>0</td>\n",
              "      <td>0</td>\n",
              "      <td>0</td>\n",
              "      <td>0</td>\n",
              "      <td>NaN</td>\n",
              "    </tr>\n",
              "    <tr>\n",
              "      <th>18159</th>\n",
              "      <td>198302230001</td>\n",
              "      <td>1983</td>\n",
              "      <td>2</td>\n",
              "      <td>23</td>\n",
              "      <td>NaN</td>\n",
              "      <td>0</td>\n",
              "      <td>NaN</td>\n",
              "      <td>78</td>\n",
              "      <td>Greece</td>\n",
              "      <td>8</td>\n",
              "      <td>...</td>\n",
              "      <td>NaN</td>\n",
              "      <td>NaN</td>\n",
              "      <td>NaN</td>\n",
              "      <td>NaN</td>\n",
              "      <td>PGIS</td>\n",
              "      <td>0</td>\n",
              "      <td>1</td>\n",
              "      <td>1</td>\n",
              "      <td>1</td>\n",
              "      <td>NaN</td>\n",
              "    </tr>\n",
              "    <tr>\n",
              "      <th>18160</th>\n",
              "      <td>198302230002</td>\n",
              "      <td>1983</td>\n",
              "      <td>2</td>\n",
              "      <td>23</td>\n",
              "      <td>NaN</td>\n",
              "      <td>0</td>\n",
              "      <td>NaN</td>\n",
              "      <td>159</td>\n",
              "      <td>Peru</td>\n",
              "      <td>3</td>\n",
              "      <td>...</td>\n",
              "      <td>NaN</td>\n",
              "      <td>NaN</td>\n",
              "      <td>NaN</td>\n",
              "      <td>NaN</td>\n",
              "      <td>PGIS</td>\n",
              "      <td>0</td>\n",
              "      <td>0</td>\n",
              "      <td>0</td>\n",
              "      <td>0</td>\n",
              "      <td>NaN</td>\n",
              "    </tr>\n",
              "  </tbody>\n",
              "</table>\n",
              "<p>18161 rows × 135 columns</p>\n",
              "</div>\n",
              "      <button class=\"colab-df-convert\" onclick=\"convertToInteractive('df-221c0a00-6e23-48d2-86c2-76100145e5e9')\"\n",
              "              title=\"Convert this dataframe to an interactive table.\"\n",
              "              style=\"display:none;\">\n",
              "        \n",
              "  <svg xmlns=\"http://www.w3.org/2000/svg\" height=\"24px\"viewBox=\"0 0 24 24\"\n",
              "       width=\"24px\">\n",
              "    <path d=\"M0 0h24v24H0V0z\" fill=\"none\"/>\n",
              "    <path d=\"M18.56 5.44l.94 2.06.94-2.06 2.06-.94-2.06-.94-.94-2.06-.94 2.06-2.06.94zm-11 1L8.5 8.5l.94-2.06 2.06-.94-2.06-.94L8.5 2.5l-.94 2.06-2.06.94zm10 10l.94 2.06.94-2.06 2.06-.94-2.06-.94-.94-2.06-.94 2.06-2.06.94z\"/><path d=\"M17.41 7.96l-1.37-1.37c-.4-.4-.92-.59-1.43-.59-.52 0-1.04.2-1.43.59L10.3 9.45l-7.72 7.72c-.78.78-.78 2.05 0 2.83L4 21.41c.39.39.9.59 1.41.59.51 0 1.02-.2 1.41-.59l7.78-7.78 2.81-2.81c.8-.78.8-2.07 0-2.86zM5.41 20L4 18.59l7.72-7.72 1.47 1.35L5.41 20z\"/>\n",
              "  </svg>\n",
              "      </button>\n",
              "      \n",
              "  <style>\n",
              "    .colab-df-container {\n",
              "      display:flex;\n",
              "      flex-wrap:wrap;\n",
              "      gap: 12px;\n",
              "    }\n",
              "\n",
              "    .colab-df-convert {\n",
              "      background-color: #E8F0FE;\n",
              "      border: none;\n",
              "      border-radius: 50%;\n",
              "      cursor: pointer;\n",
              "      display: none;\n",
              "      fill: #1967D2;\n",
              "      height: 32px;\n",
              "      padding: 0 0 0 0;\n",
              "      width: 32px;\n",
              "    }\n",
              "\n",
              "    .colab-df-convert:hover {\n",
              "      background-color: #E2EBFA;\n",
              "      box-shadow: 0px 1px 2px rgba(60, 64, 67, 0.3), 0px 1px 3px 1px rgba(60, 64, 67, 0.15);\n",
              "      fill: #174EA6;\n",
              "    }\n",
              "\n",
              "    [theme=dark] .colab-df-convert {\n",
              "      background-color: #3B4455;\n",
              "      fill: #D2E3FC;\n",
              "    }\n",
              "\n",
              "    [theme=dark] .colab-df-convert:hover {\n",
              "      background-color: #434B5C;\n",
              "      box-shadow: 0px 1px 3px 1px rgba(0, 0, 0, 0.15);\n",
              "      filter: drop-shadow(0px 1px 2px rgba(0, 0, 0, 0.3));\n",
              "      fill: #FFFFFF;\n",
              "    }\n",
              "  </style>\n",
              "\n",
              "      <script>\n",
              "        const buttonEl =\n",
              "          document.querySelector('#df-221c0a00-6e23-48d2-86c2-76100145e5e9 button.colab-df-convert');\n",
              "        buttonEl.style.display =\n",
              "          google.colab.kernel.accessAllowed ? 'block' : 'none';\n",
              "\n",
              "        async function convertToInteractive(key) {\n",
              "          const element = document.querySelector('#df-221c0a00-6e23-48d2-86c2-76100145e5e9');\n",
              "          const dataTable =\n",
              "            await google.colab.kernel.invokeFunction('convertToInteractive',\n",
              "                                                     [key], {});\n",
              "          if (!dataTable) return;\n",
              "\n",
              "          const docLinkHtml = 'Like what you see? Visit the ' +\n",
              "            '<a target=\"_blank\" href=https://colab.research.google.com/notebooks/data_table.ipynb>data table notebook</a>'\n",
              "            + ' to learn more about interactive tables.';\n",
              "          element.innerHTML = '';\n",
              "          dataTable['output_type'] = 'display_data';\n",
              "          await google.colab.output.renderOutput(dataTable, element);\n",
              "          const docLink = document.createElement('div');\n",
              "          docLink.innerHTML = docLinkHtml;\n",
              "          element.appendChild(docLink);\n",
              "        }\n",
              "      </script>\n",
              "    </div>\n",
              "  </div>\n",
              "  "
            ],
            "text/plain": [
              "            eventid  iyear  imonth  iday approxdate  extended resolution  \\\n",
              "0      197000000001   1970       7     2        NaN         0        NaN   \n",
              "1      197000000002   1970       0     0        NaN         0        NaN   \n",
              "2      197001000001   1970       1     0        NaN         0        NaN   \n",
              "3      197001000002   1970       1     0        NaN         0        NaN   \n",
              "4      197001000003   1970       1     0        NaN         0        NaN   \n",
              "...             ...    ...     ...   ...        ...       ...        ...   \n",
              "18156  198302220003   1983       2    22        NaN         0        NaN   \n",
              "18157  198302220004   1983       2    22        NaN         0        NaN   \n",
              "18158  198302220005   1983       2    22        NaN         0        NaN   \n",
              "18159  198302230001   1983       2    23        NaN         0        NaN   \n",
              "18160  198302230002   1983       2    23        NaN         0        NaN   \n",
              "\n",
              "       country         country_txt  region  ... addnotes scite1 scite2  \\\n",
              "0           58  Dominican Republic       2  ...      NaN    NaN    NaN   \n",
              "1          130              Mexico       1  ...      NaN    NaN    NaN   \n",
              "2          160         Philippines       5  ...      NaN    NaN    NaN   \n",
              "3           78              Greece       8  ...      NaN    NaN    NaN   \n",
              "4          101               Japan       4  ...      NaN    NaN    NaN   \n",
              "...        ...                 ...     ...  ...      ...    ...    ...   \n",
              "18156       45            Colombia       3  ...      NaN    NaN    NaN   \n",
              "18157      603      United Kingdom       8  ...      NaN    NaN    NaN   \n",
              "18158       61         El Salvador       2  ...      NaN    NaN    NaN   \n",
              "18159       78              Greece       8  ...      NaN    NaN    NaN   \n",
              "18160      159                Peru       3  ...      NaN    NaN    NaN   \n",
              "\n",
              "       scite3  dbsource  INT_LOG  INT_IDEO INT_MISC INT_ANY  related  \n",
              "0         NaN      PGIS        0         0        0       0      NaN  \n",
              "1         NaN      PGIS        0         1        1       1      NaN  \n",
              "2         NaN      PGIS       -9        -9        1       1      NaN  \n",
              "3         NaN      PGIS       -9        -9        1       1      NaN  \n",
              "4         NaN      PGIS       -9        -9        1       1      NaN  \n",
              "...       ...       ...      ...       ...      ...     ...      ...  \n",
              "18156     NaN      PGIS       -9        -9        0      -9      NaN  \n",
              "18157     NaN      PGIS        0         0        1       1      NaN  \n",
              "18158     NaN      PGIS        0         0        0       0      NaN  \n",
              "18159     NaN      PGIS        0         1        1       1      NaN  \n",
              "18160     NaN      PGIS        0         0        0       0      NaN  \n",
              "\n",
              "[18161 rows x 135 columns]"
            ]
          },
          "execution_count": 73,
          "metadata": {},
          "output_type": "execute_result"
        }
      ],
      "source": [
        "database.head(18161)"
      ]
    },
    {
      "cell_type": "code",
      "execution_count": null,
      "metadata": {
        "colab": {
          "base_uri": "https://localhost:8080/"
        },
        "id": "2jUNcuWm12Gp",
        "outputId": "c39b961e-2908-441a-dbc0-8dc4da64b3f0"
      },
      "outputs": [
        {
          "data": {
            "text/plain": [
              "['eventid',\n",
              " 'iyear',\n",
              " 'imonth',\n",
              " 'iday',\n",
              " 'approxdate',\n",
              " 'extended',\n",
              " 'resolution',\n",
              " 'country',\n",
              " 'country_txt',\n",
              " 'region',\n",
              " 'region_txt',\n",
              " 'provstate',\n",
              " 'city',\n",
              " 'latitude',\n",
              " 'longitude',\n",
              " 'specificity',\n",
              " 'vicinity',\n",
              " 'location',\n",
              " 'summary',\n",
              " 'crit1',\n",
              " 'crit2',\n",
              " 'crit3',\n",
              " 'doubtterr',\n",
              " 'alternative',\n",
              " 'alternative_txt',\n",
              " 'multiple',\n",
              " 'success',\n",
              " 'suicide',\n",
              " 'attacktype1',\n",
              " 'attacktype1_txt',\n",
              " 'attacktype2',\n",
              " 'attacktype2_txt',\n",
              " 'attacktype3',\n",
              " 'attacktype3_txt',\n",
              " 'targtype1',\n",
              " 'targtype1_txt',\n",
              " 'targsubtype1',\n",
              " 'targsubtype1_txt',\n",
              " 'corp1',\n",
              " 'target1',\n",
              " 'natlty1',\n",
              " 'natlty1_txt',\n",
              " 'targtype2',\n",
              " 'targtype2_txt',\n",
              " 'targsubtype2',\n",
              " 'targsubtype2_txt',\n",
              " 'corp2',\n",
              " 'target2',\n",
              " 'natlty2',\n",
              " 'natlty2_txt',\n",
              " 'targtype3',\n",
              " 'targtype3_txt',\n",
              " 'targsubtype3',\n",
              " 'targsubtype3_txt',\n",
              " 'corp3',\n",
              " 'target3',\n",
              " 'natlty3',\n",
              " 'natlty3_txt',\n",
              " 'gname',\n",
              " 'gsubname',\n",
              " 'gname2',\n",
              " 'gsubname2',\n",
              " 'gname3',\n",
              " 'gsubname3',\n",
              " 'motive',\n",
              " 'guncertain1',\n",
              " 'guncertain2',\n",
              " 'guncertain3',\n",
              " 'individual',\n",
              " 'nperps',\n",
              " 'nperpcap',\n",
              " 'claimed',\n",
              " 'claimmode',\n",
              " 'claimmode_txt',\n",
              " 'claim2',\n",
              " 'claimmode2',\n",
              " 'claimmode2_txt',\n",
              " 'claim3',\n",
              " 'claimmode3',\n",
              " 'claimmode3_txt',\n",
              " 'compclaim',\n",
              " 'weaptype1',\n",
              " 'weaptype1_txt',\n",
              " 'weapsubtype1',\n",
              " 'weapsubtype1_txt',\n",
              " 'weaptype2',\n",
              " 'weaptype2_txt',\n",
              " 'weapsubtype2',\n",
              " 'weapsubtype2_txt',\n",
              " 'weaptype3',\n",
              " 'weaptype3_txt',\n",
              " 'weapsubtype3',\n",
              " 'weapsubtype3_txt',\n",
              " 'weaptype4',\n",
              " 'weaptype4_txt',\n",
              " 'weapsubtype4',\n",
              " 'weapsubtype4_txt',\n",
              " 'weapdetail',\n",
              " 'nkill',\n",
              " 'nkillus',\n",
              " 'nkillter',\n",
              " 'nwound',\n",
              " 'nwoundus',\n",
              " 'nwoundte',\n",
              " 'property',\n",
              " 'propextent',\n",
              " 'propextent_txt',\n",
              " 'propvalue',\n",
              " 'propcomment',\n",
              " 'ishostkid',\n",
              " 'nhostkid',\n",
              " 'nhostkidus',\n",
              " 'nhours',\n",
              " 'ndays',\n",
              " 'divert',\n",
              " 'kidhijcountry',\n",
              " 'ransom',\n",
              " 'ransomamt',\n",
              " 'ransomamtus',\n",
              " 'ransompaid',\n",
              " 'ransompaidus',\n",
              " 'ransomnote',\n",
              " 'hostkidoutcome',\n",
              " 'hostkidoutcome_txt',\n",
              " 'nreleased',\n",
              " 'addnotes',\n",
              " 'scite1',\n",
              " 'scite2',\n",
              " 'scite3',\n",
              " 'dbsource',\n",
              " 'INT_LOG',\n",
              " 'INT_IDEO',\n",
              " 'INT_MISC',\n",
              " 'INT_ANY',\n",
              " 'related']"
            ]
          },
          "execution_count": 74,
          "metadata": {},
          "output_type": "execute_result"
        }
      ],
      "source": [
        "columns=list(database.columns)\n",
        "columns"
      ]
    },
    {
      "cell_type": "markdown",
      "metadata": {
        "id": "4o0jS0KNwYqr"
      },
      "source": [
        "Data provided is huge consisting 18161 rows and 135 columns.\n",
        "\n",
        "*** INSIGHTS OF DATABASE ***\n",
        "\n",
        "**Attacktype1_txt** = The type of attack happened. Attacktype1_txt\n",
        "consists of categories like explosion, armed assault,\n",
        "assassination, kidnapping, unarmed assaults.\n",
        "\n",
        "**Target1_txt** = Type of target involved in the attack. Target1_txt consists of categorical values like private citizens, military, police,\n",
        "government officials, transportation, education, religious\n",
        "institution, airports, etc.\n",
        "\n",
        "**Success** =‘1’ if attack was a success. ‘0’ if attack was a failure.\n",
        "Multiple Value for the number of attacks conducted in a single\n",
        "terrorist event.\n",
        "\n",
        "**Natlty1** = Nationality of the attacker.\n",
        "\n",
        "**Weaptype1** = Type of weapon used in the attack. Weaptype1 contains\n",
        "values like firearms, explosives, melee, vehicles etc.\n",
        "\n",
        "**nkill** = Number of people killed in any event\n",
        "\n",
        "**nwonded** = Number of people wounded in any event\n",
        "\n",
        "**gname** = Organization that claimed responsibility of an attack\n",
        "\n",
        "**Region_txt** = Name of the region where the attack happened. Region_txt\n",
        "consists values like East Asia, South Asia, Western Europe,\n",
        "etc\n",
        "\n",
        "**Longitude** = Longitude of the location\n",
        "\n",
        "**Latitude** = Latitude of the location\n",
        "\n",
        "**Property** = Total property damage happened in any event\n",
        "\n",
        "**Suicide** = ‘1’ if attack was a suicide attempt. ‘0’ if attack was not a\n",
        "suicide attempt.\n",
        "\n",
        "**Motive** = Known motive of the attacker\n",
        "\n",
        "\n",
        "**Day**, **month**, **year** = Calendar details of the event."
      ]
    },
    {
      "cell_type": "code",
      "execution_count": null,
      "metadata": {
        "colab": {
          "base_uri": "https://localhost:8080/"
        },
        "id": "WU5Ia3hB12Dx",
        "outputId": "cf7b156d-5cae-4ee4-873b-718b3b7974a8"
      },
      "outputs": [
        {
          "data": {
            "text/plain": [
              "(181691, 135)"
            ]
          },
          "execution_count": 75,
          "metadata": {},
          "output_type": "execute_result"
        }
      ],
      "source": [
        "#shape of the given database\n",
        "database.shape"
      ]
    },
    {
      "cell_type": "code",
      "execution_count": null,
      "metadata": {
        "colab": {
          "base_uri": "https://localhost:8080/"
        },
        "id": "kDSGYiTPhut8",
        "outputId": "954bad11-171d-48f1-d6f0-5e39ab4727aa"
      },
      "outputs": [
        {
          "name": "stdout",
          "output_type": "stream",
          "text": [
            "<class 'pandas.core.frame.DataFrame'>\n",
            "RangeIndex: 181691 entries, 0 to 181690\n",
            "Columns: 135 entries, eventid to related\n",
            "dtypes: float64(55), int64(22), object(58)\n",
            "memory usage: 187.1+ MB\n"
          ]
        }
      ],
      "source": [
        "database.info()"
      ]
    },
    {
      "cell_type": "markdown",
      "metadata": {
        "id": "xdoZhRHO9a8E"
      },
      "source": [
        "Given dataset from the Global Terrorism Database have 135 columns,181691 rows and it is a mix of categorical and numeric values.\n",
        "\n",
        "\n",
        "And given database is incomplete, inconsistent, contains many errors, missing attributes values, contains outliers, incorrect tags, and duplicate entries, name of the columns are not informatory enough to develop proper understanding. so, we will rename the columns ,ie Data preprocessing and this can help us to  resolve these discrepancies. and formation of informatory data so ,that we can  extract the required columns for exploring and analyzing the database,to discover the key findings pertaining to terrorist activities."
      ]
    },
    {
      "cell_type": "markdown",
      "metadata": {
        "id": "GYH9CcuASxmL"
      },
      "source": [
        "**DATA PREPROCESSING**\n",
        "\n",
        "*   DATA CLEANING-\n",
        "Removing missing values,and outliers \n",
        "*   DATA INTEGRATION-\n",
        "Subcategories are put togeter to avoid the confusion.\n",
        "*   DATA TRANSFORMATION-\n",
        "aggregation of subtypes to represent one value by summation of all similar subtypes.\n",
        "*   DIMENSION REDUCTION\n",
        "removal of columns which carries less significance to our project.\n",
        "\n",
        "\n",
        "\n",
        "\n",
        "\n",
        "\n",
        "\n",
        "\n"
      ]
    },
    {
      "cell_type": "code",
      "execution_count": null,
      "metadata": {
        "colab": {
          "base_uri": "https://localhost:8080/"
        },
        "id": "Kdv_ZXbqizsU",
        "outputId": "0fd50bb8-82af-4d56-dd40-af7fcce66d45"
      },
      "outputs": [
        {
          "data": {
            "text/html": [
              "\n",
              "  <div id=\"df-da0988c0-6bfc-4194-ae3a-e959367e0062\">\n",
              "    <div class=\"colab-df-container\">\n",
              "      <div>\n",
              "<style scoped>\n",
              "    .dataframe tbody tr th:only-of-type {\n",
              "        vertical-align: middle;\n",
              "    }\n",
              "\n",
              "    .dataframe tbody tr th {\n",
              "        vertical-align: top;\n",
              "    }\n",
              "\n",
              "    .dataframe thead th {\n",
              "        text-align: right;\n",
              "    }\n",
              "</style>\n",
              "<table border=\"1\" class=\"dataframe\">\n",
              "  <thead>\n",
              "    <tr style=\"text-align: right;\">\n",
              "      <th></th>\n",
              "      <th>eventid</th>\n",
              "      <th>iyear</th>\n",
              "      <th>imonth</th>\n",
              "      <th>iday</th>\n",
              "      <th>approxdate</th>\n",
              "      <th>extended</th>\n",
              "      <th>resolution</th>\n",
              "      <th>country</th>\n",
              "      <th>country_txt</th>\n",
              "      <th>region</th>\n",
              "      <th>...</th>\n",
              "      <th>addnotes</th>\n",
              "      <th>scite1</th>\n",
              "      <th>scite2</th>\n",
              "      <th>scite3</th>\n",
              "      <th>dbsource</th>\n",
              "      <th>INT_LOG</th>\n",
              "      <th>INT_IDEO</th>\n",
              "      <th>INT_MISC</th>\n",
              "      <th>INT_ANY</th>\n",
              "      <th>related</th>\n",
              "    </tr>\n",
              "  </thead>\n",
              "  <tbody>\n",
              "    <tr>\n",
              "      <th>0</th>\n",
              "      <td>False</td>\n",
              "      <td>False</td>\n",
              "      <td>False</td>\n",
              "      <td>False</td>\n",
              "      <td>True</td>\n",
              "      <td>False</td>\n",
              "      <td>True</td>\n",
              "      <td>False</td>\n",
              "      <td>False</td>\n",
              "      <td>False</td>\n",
              "      <td>...</td>\n",
              "      <td>True</td>\n",
              "      <td>True</td>\n",
              "      <td>True</td>\n",
              "      <td>True</td>\n",
              "      <td>False</td>\n",
              "      <td>False</td>\n",
              "      <td>False</td>\n",
              "      <td>False</td>\n",
              "      <td>False</td>\n",
              "      <td>True</td>\n",
              "    </tr>\n",
              "    <tr>\n",
              "      <th>1</th>\n",
              "      <td>False</td>\n",
              "      <td>False</td>\n",
              "      <td>False</td>\n",
              "      <td>False</td>\n",
              "      <td>True</td>\n",
              "      <td>False</td>\n",
              "      <td>True</td>\n",
              "      <td>False</td>\n",
              "      <td>False</td>\n",
              "      <td>False</td>\n",
              "      <td>...</td>\n",
              "      <td>True</td>\n",
              "      <td>True</td>\n",
              "      <td>True</td>\n",
              "      <td>True</td>\n",
              "      <td>False</td>\n",
              "      <td>False</td>\n",
              "      <td>False</td>\n",
              "      <td>False</td>\n",
              "      <td>False</td>\n",
              "      <td>True</td>\n",
              "    </tr>\n",
              "    <tr>\n",
              "      <th>2</th>\n",
              "      <td>False</td>\n",
              "      <td>False</td>\n",
              "      <td>False</td>\n",
              "      <td>False</td>\n",
              "      <td>True</td>\n",
              "      <td>False</td>\n",
              "      <td>True</td>\n",
              "      <td>False</td>\n",
              "      <td>False</td>\n",
              "      <td>False</td>\n",
              "      <td>...</td>\n",
              "      <td>True</td>\n",
              "      <td>True</td>\n",
              "      <td>True</td>\n",
              "      <td>True</td>\n",
              "      <td>False</td>\n",
              "      <td>False</td>\n",
              "      <td>False</td>\n",
              "      <td>False</td>\n",
              "      <td>False</td>\n",
              "      <td>True</td>\n",
              "    </tr>\n",
              "    <tr>\n",
              "      <th>3</th>\n",
              "      <td>False</td>\n",
              "      <td>False</td>\n",
              "      <td>False</td>\n",
              "      <td>False</td>\n",
              "      <td>True</td>\n",
              "      <td>False</td>\n",
              "      <td>True</td>\n",
              "      <td>False</td>\n",
              "      <td>False</td>\n",
              "      <td>False</td>\n",
              "      <td>...</td>\n",
              "      <td>True</td>\n",
              "      <td>True</td>\n",
              "      <td>True</td>\n",
              "      <td>True</td>\n",
              "      <td>False</td>\n",
              "      <td>False</td>\n",
              "      <td>False</td>\n",
              "      <td>False</td>\n",
              "      <td>False</td>\n",
              "      <td>True</td>\n",
              "    </tr>\n",
              "    <tr>\n",
              "      <th>4</th>\n",
              "      <td>False</td>\n",
              "      <td>False</td>\n",
              "      <td>False</td>\n",
              "      <td>False</td>\n",
              "      <td>True</td>\n",
              "      <td>False</td>\n",
              "      <td>True</td>\n",
              "      <td>False</td>\n",
              "      <td>False</td>\n",
              "      <td>False</td>\n",
              "      <td>...</td>\n",
              "      <td>True</td>\n",
              "      <td>True</td>\n",
              "      <td>True</td>\n",
              "      <td>True</td>\n",
              "      <td>False</td>\n",
              "      <td>False</td>\n",
              "      <td>False</td>\n",
              "      <td>False</td>\n",
              "      <td>False</td>\n",
              "      <td>True</td>\n",
              "    </tr>\n",
              "    <tr>\n",
              "      <th>...</th>\n",
              "      <td>...</td>\n",
              "      <td>...</td>\n",
              "      <td>...</td>\n",
              "      <td>...</td>\n",
              "      <td>...</td>\n",
              "      <td>...</td>\n",
              "      <td>...</td>\n",
              "      <td>...</td>\n",
              "      <td>...</td>\n",
              "      <td>...</td>\n",
              "      <td>...</td>\n",
              "      <td>...</td>\n",
              "      <td>...</td>\n",
              "      <td>...</td>\n",
              "      <td>...</td>\n",
              "      <td>...</td>\n",
              "      <td>...</td>\n",
              "      <td>...</td>\n",
              "      <td>...</td>\n",
              "      <td>...</td>\n",
              "      <td>...</td>\n",
              "    </tr>\n",
              "    <tr>\n",
              "      <th>181686</th>\n",
              "      <td>False</td>\n",
              "      <td>False</td>\n",
              "      <td>False</td>\n",
              "      <td>False</td>\n",
              "      <td>True</td>\n",
              "      <td>False</td>\n",
              "      <td>True</td>\n",
              "      <td>False</td>\n",
              "      <td>False</td>\n",
              "      <td>False</td>\n",
              "      <td>...</td>\n",
              "      <td>True</td>\n",
              "      <td>False</td>\n",
              "      <td>False</td>\n",
              "      <td>False</td>\n",
              "      <td>False</td>\n",
              "      <td>False</td>\n",
              "      <td>False</td>\n",
              "      <td>False</td>\n",
              "      <td>False</td>\n",
              "      <td>True</td>\n",
              "    </tr>\n",
              "    <tr>\n",
              "      <th>181687</th>\n",
              "      <td>False</td>\n",
              "      <td>False</td>\n",
              "      <td>False</td>\n",
              "      <td>False</td>\n",
              "      <td>True</td>\n",
              "      <td>False</td>\n",
              "      <td>True</td>\n",
              "      <td>False</td>\n",
              "      <td>False</td>\n",
              "      <td>False</td>\n",
              "      <td>...</td>\n",
              "      <td>True</td>\n",
              "      <td>False</td>\n",
              "      <td>False</td>\n",
              "      <td>False</td>\n",
              "      <td>False</td>\n",
              "      <td>False</td>\n",
              "      <td>False</td>\n",
              "      <td>False</td>\n",
              "      <td>False</td>\n",
              "      <td>True</td>\n",
              "    </tr>\n",
              "    <tr>\n",
              "      <th>181688</th>\n",
              "      <td>False</td>\n",
              "      <td>False</td>\n",
              "      <td>False</td>\n",
              "      <td>False</td>\n",
              "      <td>True</td>\n",
              "      <td>False</td>\n",
              "      <td>True</td>\n",
              "      <td>False</td>\n",
              "      <td>False</td>\n",
              "      <td>False</td>\n",
              "      <td>...</td>\n",
              "      <td>True</td>\n",
              "      <td>False</td>\n",
              "      <td>True</td>\n",
              "      <td>True</td>\n",
              "      <td>False</td>\n",
              "      <td>False</td>\n",
              "      <td>False</td>\n",
              "      <td>False</td>\n",
              "      <td>False</td>\n",
              "      <td>True</td>\n",
              "    </tr>\n",
              "    <tr>\n",
              "      <th>181689</th>\n",
              "      <td>False</td>\n",
              "      <td>False</td>\n",
              "      <td>False</td>\n",
              "      <td>False</td>\n",
              "      <td>True</td>\n",
              "      <td>False</td>\n",
              "      <td>True</td>\n",
              "      <td>False</td>\n",
              "      <td>False</td>\n",
              "      <td>False</td>\n",
              "      <td>...</td>\n",
              "      <td>True</td>\n",
              "      <td>False</td>\n",
              "      <td>True</td>\n",
              "      <td>True</td>\n",
              "      <td>False</td>\n",
              "      <td>False</td>\n",
              "      <td>False</td>\n",
              "      <td>False</td>\n",
              "      <td>False</td>\n",
              "      <td>True</td>\n",
              "    </tr>\n",
              "    <tr>\n",
              "      <th>181690</th>\n",
              "      <td>False</td>\n",
              "      <td>False</td>\n",
              "      <td>False</td>\n",
              "      <td>False</td>\n",
              "      <td>True</td>\n",
              "      <td>False</td>\n",
              "      <td>True</td>\n",
              "      <td>False</td>\n",
              "      <td>False</td>\n",
              "      <td>False</td>\n",
              "      <td>...</td>\n",
              "      <td>True</td>\n",
              "      <td>False</td>\n",
              "      <td>False</td>\n",
              "      <td>True</td>\n",
              "      <td>False</td>\n",
              "      <td>False</td>\n",
              "      <td>False</td>\n",
              "      <td>False</td>\n",
              "      <td>False</td>\n",
              "      <td>True</td>\n",
              "    </tr>\n",
              "  </tbody>\n",
              "</table>\n",
              "<p>181691 rows × 135 columns</p>\n",
              "</div>\n",
              "      <button class=\"colab-df-convert\" onclick=\"convertToInteractive('df-da0988c0-6bfc-4194-ae3a-e959367e0062')\"\n",
              "              title=\"Convert this dataframe to an interactive table.\"\n",
              "              style=\"display:none;\">\n",
              "        \n",
              "  <svg xmlns=\"http://www.w3.org/2000/svg\" height=\"24px\"viewBox=\"0 0 24 24\"\n",
              "       width=\"24px\">\n",
              "    <path d=\"M0 0h24v24H0V0z\" fill=\"none\"/>\n",
              "    <path d=\"M18.56 5.44l.94 2.06.94-2.06 2.06-.94-2.06-.94-.94-2.06-.94 2.06-2.06.94zm-11 1L8.5 8.5l.94-2.06 2.06-.94-2.06-.94L8.5 2.5l-.94 2.06-2.06.94zm10 10l.94 2.06.94-2.06 2.06-.94-2.06-.94-.94-2.06-.94 2.06-2.06.94z\"/><path d=\"M17.41 7.96l-1.37-1.37c-.4-.4-.92-.59-1.43-.59-.52 0-1.04.2-1.43.59L10.3 9.45l-7.72 7.72c-.78.78-.78 2.05 0 2.83L4 21.41c.39.39.9.59 1.41.59.51 0 1.02-.2 1.41-.59l7.78-7.78 2.81-2.81c.8-.78.8-2.07 0-2.86zM5.41 20L4 18.59l7.72-7.72 1.47 1.35L5.41 20z\"/>\n",
              "  </svg>\n",
              "      </button>\n",
              "      \n",
              "  <style>\n",
              "    .colab-df-container {\n",
              "      display:flex;\n",
              "      flex-wrap:wrap;\n",
              "      gap: 12px;\n",
              "    }\n",
              "\n",
              "    .colab-df-convert {\n",
              "      background-color: #E8F0FE;\n",
              "      border: none;\n",
              "      border-radius: 50%;\n",
              "      cursor: pointer;\n",
              "      display: none;\n",
              "      fill: #1967D2;\n",
              "      height: 32px;\n",
              "      padding: 0 0 0 0;\n",
              "      width: 32px;\n",
              "    }\n",
              "\n",
              "    .colab-df-convert:hover {\n",
              "      background-color: #E2EBFA;\n",
              "      box-shadow: 0px 1px 2px rgba(60, 64, 67, 0.3), 0px 1px 3px 1px rgba(60, 64, 67, 0.15);\n",
              "      fill: #174EA6;\n",
              "    }\n",
              "\n",
              "    [theme=dark] .colab-df-convert {\n",
              "      background-color: #3B4455;\n",
              "      fill: #D2E3FC;\n",
              "    }\n",
              "\n",
              "    [theme=dark] .colab-df-convert:hover {\n",
              "      background-color: #434B5C;\n",
              "      box-shadow: 0px 1px 3px 1px rgba(0, 0, 0, 0.15);\n",
              "      filter: drop-shadow(0px 1px 2px rgba(0, 0, 0, 0.3));\n",
              "      fill: #FFFFFF;\n",
              "    }\n",
              "  </style>\n",
              "\n",
              "      <script>\n",
              "        const buttonEl =\n",
              "          document.querySelector('#df-da0988c0-6bfc-4194-ae3a-e959367e0062 button.colab-df-convert');\n",
              "        buttonEl.style.display =\n",
              "          google.colab.kernel.accessAllowed ? 'block' : 'none';\n",
              "\n",
              "        async function convertToInteractive(key) {\n",
              "          const element = document.querySelector('#df-da0988c0-6bfc-4194-ae3a-e959367e0062');\n",
              "          const dataTable =\n",
              "            await google.colab.kernel.invokeFunction('convertToInteractive',\n",
              "                                                     [key], {});\n",
              "          if (!dataTable) return;\n",
              "\n",
              "          const docLinkHtml = 'Like what you see? Visit the ' +\n",
              "            '<a target=\"_blank\" href=https://colab.research.google.com/notebooks/data_table.ipynb>data table notebook</a>'\n",
              "            + ' to learn more about interactive tables.';\n",
              "          element.innerHTML = '';\n",
              "          dataTable['output_type'] = 'display_data';\n",
              "          await google.colab.output.renderOutput(dataTable, element);\n",
              "          const docLink = document.createElement('div');\n",
              "          docLink.innerHTML = docLinkHtml;\n",
              "          element.appendChild(docLink);\n",
              "        }\n",
              "      </script>\n",
              "    </div>\n",
              "  </div>\n",
              "  "
            ],
            "text/plain": [
              "        eventid  iyear  imonth   iday  approxdate  extended  resolution  \\\n",
              "0         False  False   False  False        True     False        True   \n",
              "1         False  False   False  False        True     False        True   \n",
              "2         False  False   False  False        True     False        True   \n",
              "3         False  False   False  False        True     False        True   \n",
              "4         False  False   False  False        True     False        True   \n",
              "...         ...    ...     ...    ...         ...       ...         ...   \n",
              "181686    False  False   False  False        True     False        True   \n",
              "181687    False  False   False  False        True     False        True   \n",
              "181688    False  False   False  False        True     False        True   \n",
              "181689    False  False   False  False        True     False        True   \n",
              "181690    False  False   False  False        True     False        True   \n",
              "\n",
              "        country  country_txt  region  ...  addnotes  scite1  scite2  scite3  \\\n",
              "0         False        False   False  ...      True    True    True    True   \n",
              "1         False        False   False  ...      True    True    True    True   \n",
              "2         False        False   False  ...      True    True    True    True   \n",
              "3         False        False   False  ...      True    True    True    True   \n",
              "4         False        False   False  ...      True    True    True    True   \n",
              "...         ...          ...     ...  ...       ...     ...     ...     ...   \n",
              "181686    False        False   False  ...      True   False   False   False   \n",
              "181687    False        False   False  ...      True   False   False   False   \n",
              "181688    False        False   False  ...      True   False    True    True   \n",
              "181689    False        False   False  ...      True   False    True    True   \n",
              "181690    False        False   False  ...      True   False   False    True   \n",
              "\n",
              "        dbsource  INT_LOG  INT_IDEO  INT_MISC  INT_ANY  related  \n",
              "0          False    False     False     False    False     True  \n",
              "1          False    False     False     False    False     True  \n",
              "2          False    False     False     False    False     True  \n",
              "3          False    False     False     False    False     True  \n",
              "4          False    False     False     False    False     True  \n",
              "...          ...      ...       ...       ...      ...      ...  \n",
              "181686     False    False     False     False    False     True  \n",
              "181687     False    False     False     False    False     True  \n",
              "181688     False    False     False     False    False     True  \n",
              "181689     False    False     False     False    False     True  \n",
              "181690     False    False     False     False    False     True  \n",
              "\n",
              "[181691 rows x 135 columns]"
            ]
          },
          "execution_count": 77,
          "metadata": {},
          "output_type": "execute_result"
        }
      ],
      "source": [
        "#Before cleaning the data, let's find out the total number of null values across different columns in the dataset.\n",
        "database.isnull()"
      ]
    },
    {
      "cell_type": "code",
      "execution_count": null,
      "metadata": {
        "colab": {
          "base_uri": "https://localhost:8080/"
        },
        "id": "C8iezO8nrWog",
        "outputId": "62b8dee4-35d1-4d5f-9c13-023a3fd097e3"
      },
      "outputs": [
        {
          "name": "stdout",
          "output_type": "stream",
          "text": [
            "eventid            0\n",
            "iyear              0\n",
            "imonth             0\n",
            "iday               0\n",
            "approxdate    172452\n",
            "               ...  \n",
            "INT_LOG            0\n",
            "INT_IDEO           0\n",
            "INT_MISC           0\n",
            "INT_ANY            0\n",
            "related       156653\n",
            "Length: 135, dtype: int64\n",
            "13853997\n"
          ]
        }
      ],
      "source": [
        " # count missing values \n",
        " print(database.isnull().sum())\n",
        " print(database.isnull().values.sum())"
      ]
    },
    {
      "cell_type": "code",
      "execution_count": null,
      "metadata": {
        "colab": {
          "base_uri": "https://localhost:8080/"
        },
        "id": "qDXltWaUsLMP",
        "outputId": "00d840f2-9e74-4701-9e29-13e082bb37ad"
      },
      "outputs": [
        {
          "name": "stdout",
          "output_type": "stream",
          "text": [
            "0         45\n",
            "1         52\n",
            "2         47\n",
            "3         47\n",
            "4         45\n",
            "          ..\n",
            "181686    64\n",
            "181687    67\n",
            "181688    62\n",
            "181689    59\n",
            "181690    57\n",
            "Length: 181691, dtype: int64\n",
            "10674288\n"
          ]
        }
      ],
      "source": [
        "#count non-missing values\n",
        "print(database.count(axis=1))\n",
        "print(database.count().sum())"
      ]
    },
    {
      "cell_type": "code",
      "execution_count": null,
      "metadata": {
        "id": "gA7NNGAyKMgM"
      },
      "outputs": [],
      "source": [
        "#DATA CLEANING,ie droping the columns that has missing values and outliers\n",
        "database.drop(['eventid','approxdate','resolution','specificity','vicinity','summary','crit1','crit2','crit3','attacktype2','attacktype2_txt','attacktype3','attacktype3_txt'],axis=1,inplace=True)"
      ]
    },
    {
      "cell_type": "code",
      "execution_count": null,
      "metadata": {
        "id": "CMXmy_Ve12BE"
      },
      "outputs": [],
      "source": [
        "#Renaming the database \n",
        "database.rename(columns={'iyear':'year','imonth':'month','iday':'day','country_txt':'target country','provstate':'state','alternative_txt':'action type','attacktype1_txt':'attack type','targetype1':'target code','targtype1_txt':'target','natlty1_txt':'nationality','weaptype1_txt':'weapon used','nkill':'killed','nwound':'wounded' ,'region_txt':'area','gname':'organisation claimed responsibility of attack','propvalue':'property damaged value','doubtterr':'doubt is it terrorism attack','alternative':'incident other than terrorism' },inplace=True)"
      ]
    },
    {
      "cell_type": "code",
      "execution_count": null,
      "metadata": {
        "id": "n3XLLrSq11-b"
      },
      "outputs": [],
      "source": [
        "database=database[['year','month','day','target country','state','city','longitude','latitude','location','action type','success','suicide','attack type','target','nationality','weapon used','killed','wounded','area','organisation claimed responsibility of attack','property damaged value','doubt is it terrorism attack','incident other than terrorism','motive']]"
      ]
    },
    {
      "cell_type": "code",
      "execution_count": null,
      "metadata": {
        "colab": {
          "base_uri": "https://localhost:8080/"
        },
        "id": "rL-ALa5IqxAj",
        "outputId": "cea1e356-0948-43b0-81f0-c060eebdd396"
      },
      "outputs": [
        {
          "name": "stdout",
          "output_type": "stream",
          "text": [
            "<class 'pandas.core.frame.DataFrame'>\n",
            "RangeIndex: 181691 entries, 0 to 181690\n",
            "Data columns (total 24 columns):\n",
            " #   Column                                         Non-Null Count   Dtype  \n",
            "---  ------                                         --------------   -----  \n",
            " 0   year                                           181691 non-null  int64  \n",
            " 1   month                                          181691 non-null  int64  \n",
            " 2   day                                            181691 non-null  int64  \n",
            " 3   target country                                 181691 non-null  object \n",
            " 4   state                                          181270 non-null  object \n",
            " 5   city                                           181257 non-null  object \n",
            " 6   longitude                                      177134 non-null  float64\n",
            " 7   latitude                                       177135 non-null  float64\n",
            " 8   location                                       55495 non-null   object \n",
            " 9   action type                                    29011 non-null   object \n",
            " 10  success                                        181691 non-null  int64  \n",
            " 11  suicide                                        181691 non-null  int64  \n",
            " 12  attack type                                    181691 non-null  object \n",
            " 13  target                                         181691 non-null  object \n",
            " 14  nationality                                    180132 non-null  object \n",
            " 15  weapon used                                    181691 non-null  object \n",
            " 16  killed                                         171378 non-null  float64\n",
            " 17  wounded                                        165380 non-null  float64\n",
            " 18  area                                           181691 non-null  object \n",
            " 19  organisation claimed responsibility of attack  181691 non-null  object \n",
            " 20  property damaged value                         38989 non-null   float64\n",
            " 21  doubt is it terrorism attack                   181690 non-null  float64\n",
            " 22  incident other than terrorism                  29011 non-null   float64\n",
            " 23  motive                                         50561 non-null   object \n",
            "dtypes: float64(7), int64(5), object(12)\n",
            "memory usage: 33.3+ MB\n"
          ]
        }
      ],
      "source": [
        "database.info()"
      ]
    },
    {
      "cell_type": "code",
      "execution_count": null,
      "metadata": {
        "colab": {
          "base_uri": "https://localhost:8080/"
        },
        "id": "Dmp3HIgSQIbE",
        "outputId": "dfa24347-cc04-48db-f19d-be14af1ba8c6"
      },
      "outputs": [
        {
          "name": "stderr",
          "output_type": "stream",
          "text": [
            "<ipython-input-84-8ea1e8c9bc8e>:2: SettingWithCopyWarning: \n",
            "A value is trying to be set on a copy of a slice from a DataFrame.\n",
            "Try using .loc[row_indexer,col_indexer] = value instead\n",
            "\n",
            "See the caveats in the documentation: https://pandas.pydata.org/pandas-docs/stable/user_guide/indexing.html#returning-a-view-versus-a-copy\n",
            "  database['state'] = database['state'].fillna('others')\n",
            "<ipython-input-84-8ea1e8c9bc8e>:3: SettingWithCopyWarning: \n",
            "A value is trying to be set on a copy of a slice from a DataFrame.\n",
            "Try using .loc[row_indexer,col_indexer] = value instead\n",
            "\n",
            "See the caveats in the documentation: https://pandas.pydata.org/pandas-docs/stable/user_guide/indexing.html#returning-a-view-versus-a-copy\n",
            "  database['city']=database['city'].fillna('others')\n"
          ]
        }
      ],
      "source": [
        "#filling the non-null values\n",
        "database['state'] = database['state'].fillna('others')\n",
        "database['city']=database['city'].fillna('others')\n",
        "database['longitude'] = database['longitude'].fillna('unknown')\n",
        "database['latitude'] = database['latitude'].fillna('unknown')\n",
        "database['location']=database['location'].fillna('not known')\n",
        "database['action type'] =database['action type'].fillna('not known')\n",
        "database['nationality'] =database['nationality'].fillna('not known')\n",
        "database['killed'] = database['killed'].fillna('0.0')\n",
        "database['wounded'] = database['wounded'].fillna('0.0')\n",
        "database['property damaged value'] = database['property damaged value'].fillna('no data available')\n",
        "database['doubt is it terrorism attack'] = database['doubt is it terrorism attack'].fillna('0')\n",
        "database['incident other than terrorism']=database['incident other than terrorism'].fillna('not known')\n",
        "database['motive']=database['motive'].fillna('not known')"
      ]
    },
    {
      "cell_type": "code",
      "execution_count": null,
      "metadata": {
        "colab": {
          "base_uri": "https://localhost:8080/"
        },
        "id": "nOMIcxBoUouc",
        "outputId": "485da8ec-82d7-4004-d578-9955935988b2"
      },
      "outputs": [
        {
          "name": "stdout",
          "output_type": "stream",
          "text": [
            "<class 'pandas.core.frame.DataFrame'>\n",
            "RangeIndex: 181691 entries, 0 to 181690\n",
            "Data columns (total 24 columns):\n",
            " #   Column                                         Non-Null Count   Dtype \n",
            "---  ------                                         --------------   ----- \n",
            " 0   year                                           181691 non-null  int64 \n",
            " 1   month                                          181691 non-null  int64 \n",
            " 2   day                                            181691 non-null  int64 \n",
            " 3   target country                                 181691 non-null  object\n",
            " 4   state                                          181691 non-null  object\n",
            " 5   city                                           181691 non-null  object\n",
            " 6   longitude                                      181691 non-null  object\n",
            " 7   latitude                                       181691 non-null  object\n",
            " 8   location                                       181691 non-null  object\n",
            " 9   action type                                    181691 non-null  object\n",
            " 10  success                                        181691 non-null  int64 \n",
            " 11  suicide                                        181691 non-null  int64 \n",
            " 12  attack type                                    181691 non-null  object\n",
            " 13  target                                         181691 non-null  object\n",
            " 14  nationality                                    181691 non-null  object\n",
            " 15  weapon used                                    181691 non-null  object\n",
            " 16  killed                                         181691 non-null  object\n",
            " 17  wounded                                        181691 non-null  object\n",
            " 18  area                                           181691 non-null  object\n",
            " 19  organisation claimed responsibility of attack  181691 non-null  object\n",
            " 20  property damaged value                         181691 non-null  object\n",
            " 21  doubt is it terrorism attack                   181691 non-null  object\n",
            " 22  incident other than terrorism                  181691 non-null  object\n",
            " 23  motive                                         181691 non-null  object\n",
            "dtypes: int64(5), object(19)\n",
            "memory usage: 33.3+ MB\n"
          ]
        }
      ],
      "source": [
        "database.info()"
      ]
    },
    {
      "cell_type": "code",
      "execution_count": null,
      "metadata": {
        "colab": {
          "base_uri": "https://localhost:8080/"
        },
        "id": "GIH3FanUXGcN",
        "outputId": "3fd699ee-fd9b-46f3-c0b1-feaa0e9d8bdf"
      },
      "outputs": [
        {
          "data": {
            "text/plain": [
              "year                                             0\n",
              "month                                            0\n",
              "day                                              0\n",
              "target country                                   0\n",
              "state                                            0\n",
              "city                                             0\n",
              "longitude                                        0\n",
              "latitude                                         0\n",
              "location                                         0\n",
              "action type                                      0\n",
              "success                                          0\n",
              "suicide                                          0\n",
              "attack type                                      0\n",
              "target                                           0\n",
              "nationality                                      0\n",
              "weapon used                                      0\n",
              "killed                                           0\n",
              "wounded                                          0\n",
              "area                                             0\n",
              "organisation claimed responsibility of attack    0\n",
              "property damaged value                           0\n",
              "doubt is it terrorism attack                     0\n",
              "incident other than terrorism                    0\n",
              "motive                                           0\n",
              "dtype: int64"
            ]
          },
          "execution_count": 86,
          "metadata": {},
          "output_type": "execute_result"
        }
      ],
      "source": [
        "database.isnull().sum()"
      ]
    },
    {
      "cell_type": "markdown",
      "metadata": {
        "id": "v8WWoUv6Uatu"
      },
      "source": [
        "There are no null values over the entire data.\n"
      ]
    },
    {
      "cell_type": "code",
      "execution_count": null,
      "metadata": {
        "colab": {
          "base_uri": "https://localhost:8080/"
        },
        "id": "ZUkOHwNR117e",
        "outputId": "88611d22-ae14-4ec1-d4df-4cf92642e5de"
      },
      "outputs": [
        {
          "data": {
            "text/html": [
              "\n",
              "  <div id=\"df-fff3677e-2e0c-4feb-9ffe-56d9676ac08a\">\n",
              "    <div class=\"colab-df-container\">\n",
              "      <div>\n",
              "<style scoped>\n",
              "    .dataframe tbody tr th:only-of-type {\n",
              "        vertical-align: middle;\n",
              "    }\n",
              "\n",
              "    .dataframe tbody tr th {\n",
              "        vertical-align: top;\n",
              "    }\n",
              "\n",
              "    .dataframe thead th {\n",
              "        text-align: right;\n",
              "    }\n",
              "</style>\n",
              "<table border=\"1\" class=\"dataframe\">\n",
              "  <thead>\n",
              "    <tr style=\"text-align: right;\">\n",
              "      <th></th>\n",
              "      <th>year</th>\n",
              "      <th>month</th>\n",
              "      <th>day</th>\n",
              "      <th>target country</th>\n",
              "      <th>state</th>\n",
              "      <th>city</th>\n",
              "      <th>longitude</th>\n",
              "      <th>latitude</th>\n",
              "      <th>location</th>\n",
              "      <th>action type</th>\n",
              "      <th>...</th>\n",
              "      <th>nationality</th>\n",
              "      <th>weapon used</th>\n",
              "      <th>killed</th>\n",
              "      <th>wounded</th>\n",
              "      <th>area</th>\n",
              "      <th>organisation claimed responsibility of attack</th>\n",
              "      <th>property damaged value</th>\n",
              "      <th>doubt is it terrorism attack</th>\n",
              "      <th>incident other than terrorism</th>\n",
              "      <th>motive</th>\n",
              "    </tr>\n",
              "  </thead>\n",
              "  <tbody>\n",
              "    <tr>\n",
              "      <th>0</th>\n",
              "      <td>1970</td>\n",
              "      <td>7</td>\n",
              "      <td>2</td>\n",
              "      <td>Dominican Republic</td>\n",
              "      <td>others</td>\n",
              "      <td>Santo Domingo</td>\n",
              "      <td>-69.951164</td>\n",
              "      <td>18.456792</td>\n",
              "      <td>not known</td>\n",
              "      <td>not known</td>\n",
              "      <td>...</td>\n",
              "      <td>Dominican Republic</td>\n",
              "      <td>Unknown</td>\n",
              "      <td>1.0</td>\n",
              "      <td>0.0</td>\n",
              "      <td>Central America &amp; Caribbean</td>\n",
              "      <td>MANO-D</td>\n",
              "      <td>no data available</td>\n",
              "      <td>0.0</td>\n",
              "      <td>not known</td>\n",
              "      <td>not known</td>\n",
              "    </tr>\n",
              "    <tr>\n",
              "      <th>1</th>\n",
              "      <td>1970</td>\n",
              "      <td>0</td>\n",
              "      <td>0</td>\n",
              "      <td>Mexico</td>\n",
              "      <td>Federal</td>\n",
              "      <td>Mexico city</td>\n",
              "      <td>-99.086624</td>\n",
              "      <td>19.371887</td>\n",
              "      <td>not known</td>\n",
              "      <td>not known</td>\n",
              "      <td>...</td>\n",
              "      <td>Belgium</td>\n",
              "      <td>Unknown</td>\n",
              "      <td>0.0</td>\n",
              "      <td>0.0</td>\n",
              "      <td>North America</td>\n",
              "      <td>23rd of September Communist League</td>\n",
              "      <td>no data available</td>\n",
              "      <td>0.0</td>\n",
              "      <td>not known</td>\n",
              "      <td>not known</td>\n",
              "    </tr>\n",
              "    <tr>\n",
              "      <th>2</th>\n",
              "      <td>1970</td>\n",
              "      <td>1</td>\n",
              "      <td>0</td>\n",
              "      <td>Philippines</td>\n",
              "      <td>Tarlac</td>\n",
              "      <td>Unknown</td>\n",
              "      <td>120.599741</td>\n",
              "      <td>15.478598</td>\n",
              "      <td>not known</td>\n",
              "      <td>not known</td>\n",
              "      <td>...</td>\n",
              "      <td>United States</td>\n",
              "      <td>Unknown</td>\n",
              "      <td>1.0</td>\n",
              "      <td>0.0</td>\n",
              "      <td>Southeast Asia</td>\n",
              "      <td>Unknown</td>\n",
              "      <td>no data available</td>\n",
              "      <td>0.0</td>\n",
              "      <td>not known</td>\n",
              "      <td>not known</td>\n",
              "    </tr>\n",
              "    <tr>\n",
              "      <th>3</th>\n",
              "      <td>1970</td>\n",
              "      <td>1</td>\n",
              "      <td>0</td>\n",
              "      <td>Greece</td>\n",
              "      <td>Attica</td>\n",
              "      <td>Athens</td>\n",
              "      <td>23.762728</td>\n",
              "      <td>37.99749</td>\n",
              "      <td>not known</td>\n",
              "      <td>not known</td>\n",
              "      <td>...</td>\n",
              "      <td>United States</td>\n",
              "      <td>Explosives</td>\n",
              "      <td>0.0</td>\n",
              "      <td>0.0</td>\n",
              "      <td>Western Europe</td>\n",
              "      <td>Unknown</td>\n",
              "      <td>no data available</td>\n",
              "      <td>0.0</td>\n",
              "      <td>not known</td>\n",
              "      <td>not known</td>\n",
              "    </tr>\n",
              "    <tr>\n",
              "      <th>4</th>\n",
              "      <td>1970</td>\n",
              "      <td>1</td>\n",
              "      <td>0</td>\n",
              "      <td>Japan</td>\n",
              "      <td>Fukouka</td>\n",
              "      <td>Fukouka</td>\n",
              "      <td>130.396361</td>\n",
              "      <td>33.580412</td>\n",
              "      <td>not known</td>\n",
              "      <td>not known</td>\n",
              "      <td>...</td>\n",
              "      <td>United States</td>\n",
              "      <td>Incendiary</td>\n",
              "      <td>0.0</td>\n",
              "      <td>0.0</td>\n",
              "      <td>East Asia</td>\n",
              "      <td>Unknown</td>\n",
              "      <td>no data available</td>\n",
              "      <td>-9.0</td>\n",
              "      <td>not known</td>\n",
              "      <td>not known</td>\n",
              "    </tr>\n",
              "    <tr>\n",
              "      <th>...</th>\n",
              "      <td>...</td>\n",
              "      <td>...</td>\n",
              "      <td>...</td>\n",
              "      <td>...</td>\n",
              "      <td>...</td>\n",
              "      <td>...</td>\n",
              "      <td>...</td>\n",
              "      <td>...</td>\n",
              "      <td>...</td>\n",
              "      <td>...</td>\n",
              "      <td>...</td>\n",
              "      <td>...</td>\n",
              "      <td>...</td>\n",
              "      <td>...</td>\n",
              "      <td>...</td>\n",
              "      <td>...</td>\n",
              "      <td>...</td>\n",
              "      <td>...</td>\n",
              "      <td>...</td>\n",
              "      <td>...</td>\n",
              "      <td>...</td>\n",
              "    </tr>\n",
              "    <tr>\n",
              "      <th>181686</th>\n",
              "      <td>2017</td>\n",
              "      <td>12</td>\n",
              "      <td>31</td>\n",
              "      <td>Somalia</td>\n",
              "      <td>Middle Shebelle</td>\n",
              "      <td>Ceelka Geelow</td>\n",
              "      <td>45.385034</td>\n",
              "      <td>2.359673</td>\n",
              "      <td>The incident occurred near the town of Balcad.</td>\n",
              "      <td>Insurgency/Guerilla Action</td>\n",
              "      <td>...</td>\n",
              "      <td>Somalia</td>\n",
              "      <td>Firearms</td>\n",
              "      <td>1.0</td>\n",
              "      <td>2.0</td>\n",
              "      <td>Sub-Saharan Africa</td>\n",
              "      <td>Al-Shabaab</td>\n",
              "      <td>no data available</td>\n",
              "      <td>1.0</td>\n",
              "      <td>1.0</td>\n",
              "      <td>not known</td>\n",
              "    </tr>\n",
              "    <tr>\n",
              "      <th>181687</th>\n",
              "      <td>2017</td>\n",
              "      <td>12</td>\n",
              "      <td>31</td>\n",
              "      <td>Syria</td>\n",
              "      <td>Lattakia</td>\n",
              "      <td>Jableh</td>\n",
              "      <td>35.942679</td>\n",
              "      <td>35.407278</td>\n",
              "      <td>The incident occurred at the Humaymim Airport.</td>\n",
              "      <td>Insurgency/Guerilla Action</td>\n",
              "      <td>...</td>\n",
              "      <td>Russia</td>\n",
              "      <td>Explosives</td>\n",
              "      <td>2.0</td>\n",
              "      <td>7.0</td>\n",
              "      <td>Middle East &amp; North Africa</td>\n",
              "      <td>Muslim extremists</td>\n",
              "      <td>-99.0</td>\n",
              "      <td>1.0</td>\n",
              "      <td>1.0</td>\n",
              "      <td>not known</td>\n",
              "    </tr>\n",
              "    <tr>\n",
              "      <th>181688</th>\n",
              "      <td>2017</td>\n",
              "      <td>12</td>\n",
              "      <td>31</td>\n",
              "      <td>Philippines</td>\n",
              "      <td>Maguindanao</td>\n",
              "      <td>Kubentog</td>\n",
              "      <td>124.437908</td>\n",
              "      <td>6.900742</td>\n",
              "      <td>The incident occurred in the Datu Hoffer distr...</td>\n",
              "      <td>not known</td>\n",
              "      <td>...</td>\n",
              "      <td>Philippines</td>\n",
              "      <td>Incendiary</td>\n",
              "      <td>0.0</td>\n",
              "      <td>0.0</td>\n",
              "      <td>Southeast Asia</td>\n",
              "      <td>Bangsamoro Islamic Freedom Movement (BIFM)</td>\n",
              "      <td>-99.0</td>\n",
              "      <td>0.0</td>\n",
              "      <td>not known</td>\n",
              "      <td>not known</td>\n",
              "    </tr>\n",
              "    <tr>\n",
              "      <th>181689</th>\n",
              "      <td>2017</td>\n",
              "      <td>12</td>\n",
              "      <td>31</td>\n",
              "      <td>India</td>\n",
              "      <td>Manipur</td>\n",
              "      <td>Imphal</td>\n",
              "      <td>93.94043</td>\n",
              "      <td>24.798346</td>\n",
              "      <td>The incident occurred in the Mantripukhri neig...</td>\n",
              "      <td>not known</td>\n",
              "      <td>...</td>\n",
              "      <td>India</td>\n",
              "      <td>Explosives</td>\n",
              "      <td>0.0</td>\n",
              "      <td>0.0</td>\n",
              "      <td>South Asia</td>\n",
              "      <td>Unknown</td>\n",
              "      <td>no data available</td>\n",
              "      <td>0.0</td>\n",
              "      <td>not known</td>\n",
              "      <td>not known</td>\n",
              "    </tr>\n",
              "    <tr>\n",
              "      <th>181690</th>\n",
              "      <td>2017</td>\n",
              "      <td>12</td>\n",
              "      <td>31</td>\n",
              "      <td>Philippines</td>\n",
              "      <td>Maguindanao</td>\n",
              "      <td>Cotabato City</td>\n",
              "      <td>124.241966</td>\n",
              "      <td>7.209594</td>\n",
              "      <td>not known</td>\n",
              "      <td>not known</td>\n",
              "      <td>...</td>\n",
              "      <td>Philippines</td>\n",
              "      <td>Explosives</td>\n",
              "      <td>0.0</td>\n",
              "      <td>0.0</td>\n",
              "      <td>Southeast Asia</td>\n",
              "      <td>Unknown</td>\n",
              "      <td>no data available</td>\n",
              "      <td>0.0</td>\n",
              "      <td>not known</td>\n",
              "      <td>not known</td>\n",
              "    </tr>\n",
              "  </tbody>\n",
              "</table>\n",
              "<p>181691 rows × 24 columns</p>\n",
              "</div>\n",
              "      <button class=\"colab-df-convert\" onclick=\"convertToInteractive('df-fff3677e-2e0c-4feb-9ffe-56d9676ac08a')\"\n",
              "              title=\"Convert this dataframe to an interactive table.\"\n",
              "              style=\"display:none;\">\n",
              "        \n",
              "  <svg xmlns=\"http://www.w3.org/2000/svg\" height=\"24px\"viewBox=\"0 0 24 24\"\n",
              "       width=\"24px\">\n",
              "    <path d=\"M0 0h24v24H0V0z\" fill=\"none\"/>\n",
              "    <path d=\"M18.56 5.44l.94 2.06.94-2.06 2.06-.94-2.06-.94-.94-2.06-.94 2.06-2.06.94zm-11 1L8.5 8.5l.94-2.06 2.06-.94-2.06-.94L8.5 2.5l-.94 2.06-2.06.94zm10 10l.94 2.06.94-2.06 2.06-.94-2.06-.94-.94-2.06-.94 2.06-2.06.94z\"/><path d=\"M17.41 7.96l-1.37-1.37c-.4-.4-.92-.59-1.43-.59-.52 0-1.04.2-1.43.59L10.3 9.45l-7.72 7.72c-.78.78-.78 2.05 0 2.83L4 21.41c.39.39.9.59 1.41.59.51 0 1.02-.2 1.41-.59l7.78-7.78 2.81-2.81c.8-.78.8-2.07 0-2.86zM5.41 20L4 18.59l7.72-7.72 1.47 1.35L5.41 20z\"/>\n",
              "  </svg>\n",
              "      </button>\n",
              "      \n",
              "  <style>\n",
              "    .colab-df-container {\n",
              "      display:flex;\n",
              "      flex-wrap:wrap;\n",
              "      gap: 12px;\n",
              "    }\n",
              "\n",
              "    .colab-df-convert {\n",
              "      background-color: #E8F0FE;\n",
              "      border: none;\n",
              "      border-radius: 50%;\n",
              "      cursor: pointer;\n",
              "      display: none;\n",
              "      fill: #1967D2;\n",
              "      height: 32px;\n",
              "      padding: 0 0 0 0;\n",
              "      width: 32px;\n",
              "    }\n",
              "\n",
              "    .colab-df-convert:hover {\n",
              "      background-color: #E2EBFA;\n",
              "      box-shadow: 0px 1px 2px rgba(60, 64, 67, 0.3), 0px 1px 3px 1px rgba(60, 64, 67, 0.15);\n",
              "      fill: #174EA6;\n",
              "    }\n",
              "\n",
              "    [theme=dark] .colab-df-convert {\n",
              "      background-color: #3B4455;\n",
              "      fill: #D2E3FC;\n",
              "    }\n",
              "\n",
              "    [theme=dark] .colab-df-convert:hover {\n",
              "      background-color: #434B5C;\n",
              "      box-shadow: 0px 1px 3px 1px rgba(0, 0, 0, 0.15);\n",
              "      filter: drop-shadow(0px 1px 2px rgba(0, 0, 0, 0.3));\n",
              "      fill: #FFFFFF;\n",
              "    }\n",
              "  </style>\n",
              "\n",
              "      <script>\n",
              "        const buttonEl =\n",
              "          document.querySelector('#df-fff3677e-2e0c-4feb-9ffe-56d9676ac08a button.colab-df-convert');\n",
              "        buttonEl.style.display =\n",
              "          google.colab.kernel.accessAllowed ? 'block' : 'none';\n",
              "\n",
              "        async function convertToInteractive(key) {\n",
              "          const element = document.querySelector('#df-fff3677e-2e0c-4feb-9ffe-56d9676ac08a');\n",
              "          const dataTable =\n",
              "            await google.colab.kernel.invokeFunction('convertToInteractive',\n",
              "                                                     [key], {});\n",
              "          if (!dataTable) return;\n",
              "\n",
              "          const docLinkHtml = 'Like what you see? Visit the ' +\n",
              "            '<a target=\"_blank\" href=https://colab.research.google.com/notebooks/data_table.ipynb>data table notebook</a>'\n",
              "            + ' to learn more about interactive tables.';\n",
              "          element.innerHTML = '';\n",
              "          dataTable['output_type'] = 'display_data';\n",
              "          await google.colab.output.renderOutput(dataTable, element);\n",
              "          const docLink = document.createElement('div');\n",
              "          docLink.innerHTML = docLinkHtml;\n",
              "          element.appendChild(docLink);\n",
              "        }\n",
              "      </script>\n",
              "    </div>\n",
              "  </div>\n",
              "  "
            ],
            "text/plain": [
              "        year  month  day      target country            state           city  \\\n",
              "0       1970      7    2  Dominican Republic           others  Santo Domingo   \n",
              "1       1970      0    0              Mexico          Federal    Mexico city   \n",
              "2       1970      1    0         Philippines           Tarlac        Unknown   \n",
              "3       1970      1    0              Greece           Attica         Athens   \n",
              "4       1970      1    0               Japan          Fukouka        Fukouka   \n",
              "...      ...    ...  ...                 ...              ...            ...   \n",
              "181686  2017     12   31             Somalia  Middle Shebelle  Ceelka Geelow   \n",
              "181687  2017     12   31               Syria         Lattakia         Jableh   \n",
              "181688  2017     12   31         Philippines      Maguindanao       Kubentog   \n",
              "181689  2017     12   31               India          Manipur         Imphal   \n",
              "181690  2017     12   31         Philippines      Maguindanao  Cotabato City   \n",
              "\n",
              "         longitude   latitude  \\\n",
              "0       -69.951164  18.456792   \n",
              "1       -99.086624  19.371887   \n",
              "2       120.599741  15.478598   \n",
              "3        23.762728   37.99749   \n",
              "4       130.396361  33.580412   \n",
              "...            ...        ...   \n",
              "181686   45.385034   2.359673   \n",
              "181687   35.942679  35.407278   \n",
              "181688  124.437908   6.900742   \n",
              "181689    93.94043  24.798346   \n",
              "181690  124.241966   7.209594   \n",
              "\n",
              "                                                 location  \\\n",
              "0                                               not known   \n",
              "1                                               not known   \n",
              "2                                               not known   \n",
              "3                                               not known   \n",
              "4                                               not known   \n",
              "...                                                   ...   \n",
              "181686     The incident occurred near the town of Balcad.   \n",
              "181687     The incident occurred at the Humaymim Airport.   \n",
              "181688  The incident occurred in the Datu Hoffer distr...   \n",
              "181689  The incident occurred in the Mantripukhri neig...   \n",
              "181690                                          not known   \n",
              "\n",
              "                       action type  ...         nationality  weapon used  \\\n",
              "0                        not known  ...  Dominican Republic      Unknown   \n",
              "1                        not known  ...             Belgium      Unknown   \n",
              "2                        not known  ...       United States      Unknown   \n",
              "3                        not known  ...       United States   Explosives   \n",
              "4                        not known  ...       United States   Incendiary   \n",
              "...                            ...  ...                 ...          ...   \n",
              "181686  Insurgency/Guerilla Action  ...             Somalia     Firearms   \n",
              "181687  Insurgency/Guerilla Action  ...              Russia   Explosives   \n",
              "181688                   not known  ...         Philippines   Incendiary   \n",
              "181689                   not known  ...               India   Explosives   \n",
              "181690                   not known  ...         Philippines   Explosives   \n",
              "\n",
              "       killed wounded                         area  \\\n",
              "0         1.0     0.0  Central America & Caribbean   \n",
              "1         0.0     0.0                North America   \n",
              "2         1.0     0.0               Southeast Asia   \n",
              "3         0.0     0.0               Western Europe   \n",
              "4         0.0     0.0                    East Asia   \n",
              "...       ...     ...                          ...   \n",
              "181686    1.0     2.0           Sub-Saharan Africa   \n",
              "181687    2.0     7.0   Middle East & North Africa   \n",
              "181688    0.0     0.0               Southeast Asia   \n",
              "181689    0.0     0.0                   South Asia   \n",
              "181690    0.0     0.0               Southeast Asia   \n",
              "\n",
              "       organisation claimed responsibility of attack property damaged value  \\\n",
              "0                                             MANO-D      no data available   \n",
              "1                 23rd of September Communist League      no data available   \n",
              "2                                            Unknown      no data available   \n",
              "3                                            Unknown      no data available   \n",
              "4                                            Unknown      no data available   \n",
              "...                                              ...                    ...   \n",
              "181686                                    Al-Shabaab      no data available   \n",
              "181687                             Muslim extremists                  -99.0   \n",
              "181688    Bangsamoro Islamic Freedom Movement (BIFM)                  -99.0   \n",
              "181689                                       Unknown      no data available   \n",
              "181690                                       Unknown      no data available   \n",
              "\n",
              "       doubt is it terrorism attack incident other than terrorism     motive  \n",
              "0                               0.0                     not known  not known  \n",
              "1                               0.0                     not known  not known  \n",
              "2                               0.0                     not known  not known  \n",
              "3                               0.0                     not known  not known  \n",
              "4                              -9.0                     not known  not known  \n",
              "...                             ...                           ...        ...  \n",
              "181686                          1.0                           1.0  not known  \n",
              "181687                          1.0                           1.0  not known  \n",
              "181688                          0.0                     not known  not known  \n",
              "181689                          0.0                     not known  not known  \n",
              "181690                          0.0                     not known  not known  \n",
              "\n",
              "[181691 rows x 24 columns]"
            ]
          },
          "execution_count": 87,
          "metadata": {},
          "output_type": "execute_result"
        }
      ],
      "source": [
        "#final database\n",
        "database.head(181691)"
      ]
    },
    {
      "cell_type": "code",
      "execution_count": null,
      "metadata": {
        "colab": {
          "base_uri": "https://localhost:8080/"
        },
        "id": "_lgrUHFWnUwn",
        "outputId": "eb8c2cd7-922c-4b0a-f5cc-b2165278be35"
      },
      "outputs": [
        {
          "data": {
            "text/html": [
              "\n",
              "  <div id=\"df-24d2685d-a428-40e5-ad5e-c4ecd9ad590e\">\n",
              "    <div class=\"colab-df-container\">\n",
              "      <div>\n",
              "<style scoped>\n",
              "    .dataframe tbody tr th:only-of-type {\n",
              "        vertical-align: middle;\n",
              "    }\n",
              "\n",
              "    .dataframe tbody tr th {\n",
              "        vertical-align: top;\n",
              "    }\n",
              "\n",
              "    .dataframe thead th {\n",
              "        text-align: right;\n",
              "    }\n",
              "</style>\n",
              "<table border=\"1\" class=\"dataframe\">\n",
              "  <thead>\n",
              "    <tr style=\"text-align: right;\">\n",
              "      <th></th>\n",
              "      <th>year</th>\n",
              "      <th>month</th>\n",
              "      <th>day</th>\n",
              "      <th>target country</th>\n",
              "      <th>state</th>\n",
              "      <th>city</th>\n",
              "      <th>longitude</th>\n",
              "      <th>latitude</th>\n",
              "      <th>location</th>\n",
              "      <th>action type</th>\n",
              "      <th>...</th>\n",
              "      <th>nationality</th>\n",
              "      <th>weapon used</th>\n",
              "      <th>killed</th>\n",
              "      <th>wounded</th>\n",
              "      <th>area</th>\n",
              "      <th>organisation claimed responsibility of attack</th>\n",
              "      <th>property damaged value</th>\n",
              "      <th>doubt is it terrorism attack</th>\n",
              "      <th>incident other than terrorism</th>\n",
              "      <th>motive</th>\n",
              "    </tr>\n",
              "  </thead>\n",
              "  <tbody>\n",
              "    <tr>\n",
              "      <th>count</th>\n",
              "      <td>181691.000000</td>\n",
              "      <td>181691.000000</td>\n",
              "      <td>181691.000000</td>\n",
              "      <td>181691</td>\n",
              "      <td>181691</td>\n",
              "      <td>181691</td>\n",
              "      <td>181691.000000</td>\n",
              "      <td>181691.000000</td>\n",
              "      <td>181691</td>\n",
              "      <td>181691</td>\n",
              "      <td>...</td>\n",
              "      <td>181691</td>\n",
              "      <td>181691</td>\n",
              "      <td>181691.0</td>\n",
              "      <td>181691.0</td>\n",
              "      <td>181691</td>\n",
              "      <td>181691</td>\n",
              "      <td>181691</td>\n",
              "      <td>181691.0</td>\n",
              "      <td>181691</td>\n",
              "      <td>181691</td>\n",
              "    </tr>\n",
              "    <tr>\n",
              "      <th>unique</th>\n",
              "      <td>NaN</td>\n",
              "      <td>NaN</td>\n",
              "      <td>NaN</td>\n",
              "      <td>205</td>\n",
              "      <td>2856</td>\n",
              "      <td>36675</td>\n",
              "      <td>48040.000000</td>\n",
              "      <td>48323.000000</td>\n",
              "      <td>44110</td>\n",
              "      <td>6</td>\n",
              "      <td>...</td>\n",
              "      <td>216</td>\n",
              "      <td>12</td>\n",
              "      <td>206.0</td>\n",
              "      <td>239.0</td>\n",
              "      <td>12</td>\n",
              "      <td>3537</td>\n",
              "      <td>660</td>\n",
              "      <td>4.0</td>\n",
              "      <td>6</td>\n",
              "      <td>14491</td>\n",
              "    </tr>\n",
              "    <tr>\n",
              "      <th>top</th>\n",
              "      <td>NaN</td>\n",
              "      <td>NaN</td>\n",
              "      <td>NaN</td>\n",
              "      <td>Iraq</td>\n",
              "      <td>Baghdad</td>\n",
              "      <td>Unknown</td>\n",
              "      <td>44.371773</td>\n",
              "      <td>33.303566</td>\n",
              "      <td>not known</td>\n",
              "      <td>not known</td>\n",
              "      <td>...</td>\n",
              "      <td>Iraq</td>\n",
              "      <td>Explosives</td>\n",
              "      <td>0.0</td>\n",
              "      <td>0.0</td>\n",
              "      <td>Middle East &amp; North Africa</td>\n",
              "      <td>Unknown</td>\n",
              "      <td>no data available</td>\n",
              "      <td>0.0</td>\n",
              "      <td>not known</td>\n",
              "      <td>not known</td>\n",
              "    </tr>\n",
              "    <tr>\n",
              "      <th>freq</th>\n",
              "      <td>NaN</td>\n",
              "      <td>NaN</td>\n",
              "      <td>NaN</td>\n",
              "      <td>24636</td>\n",
              "      <td>7645</td>\n",
              "      <td>9775</td>\n",
              "      <td>7521.000000</td>\n",
              "      <td>7521.000000</td>\n",
              "      <td>126196</td>\n",
              "      <td>152680</td>\n",
              "      <td>...</td>\n",
              "      <td>24113</td>\n",
              "      <td>92426</td>\n",
              "      <td>88149.0</td>\n",
              "      <td>103275.0</td>\n",
              "      <td>50474</td>\n",
              "      <td>82782</td>\n",
              "      <td>142702</td>\n",
              "      <td>138905.0</td>\n",
              "      <td>152680</td>\n",
              "      <td>131130</td>\n",
              "    </tr>\n",
              "    <tr>\n",
              "      <th>mean</th>\n",
              "      <td>2002.638997</td>\n",
              "      <td>6.467277</td>\n",
              "      <td>15.505644</td>\n",
              "      <td>NaN</td>\n",
              "      <td>NaN</td>\n",
              "      <td>NaN</td>\n",
              "      <td>NaN</td>\n",
              "      <td>NaN</td>\n",
              "      <td>NaN</td>\n",
              "      <td>NaN</td>\n",
              "      <td>...</td>\n",
              "      <td>NaN</td>\n",
              "      <td>NaN</td>\n",
              "      <td>NaN</td>\n",
              "      <td>NaN</td>\n",
              "      <td>NaN</td>\n",
              "      <td>NaN</td>\n",
              "      <td>NaN</td>\n",
              "      <td>NaN</td>\n",
              "      <td>NaN</td>\n",
              "      <td>NaN</td>\n",
              "    </tr>\n",
              "    <tr>\n",
              "      <th>std</th>\n",
              "      <td>13.259430</td>\n",
              "      <td>3.388303</td>\n",
              "      <td>8.814045</td>\n",
              "      <td>NaN</td>\n",
              "      <td>NaN</td>\n",
              "      <td>NaN</td>\n",
              "      <td>NaN</td>\n",
              "      <td>NaN</td>\n",
              "      <td>NaN</td>\n",
              "      <td>NaN</td>\n",
              "      <td>...</td>\n",
              "      <td>NaN</td>\n",
              "      <td>NaN</td>\n",
              "      <td>NaN</td>\n",
              "      <td>NaN</td>\n",
              "      <td>NaN</td>\n",
              "      <td>NaN</td>\n",
              "      <td>NaN</td>\n",
              "      <td>NaN</td>\n",
              "      <td>NaN</td>\n",
              "      <td>NaN</td>\n",
              "    </tr>\n",
              "    <tr>\n",
              "      <th>min</th>\n",
              "      <td>1970.000000</td>\n",
              "      <td>0.000000</td>\n",
              "      <td>0.000000</td>\n",
              "      <td>NaN</td>\n",
              "      <td>NaN</td>\n",
              "      <td>NaN</td>\n",
              "      <td>NaN</td>\n",
              "      <td>NaN</td>\n",
              "      <td>NaN</td>\n",
              "      <td>NaN</td>\n",
              "      <td>...</td>\n",
              "      <td>NaN</td>\n",
              "      <td>NaN</td>\n",
              "      <td>NaN</td>\n",
              "      <td>NaN</td>\n",
              "      <td>NaN</td>\n",
              "      <td>NaN</td>\n",
              "      <td>NaN</td>\n",
              "      <td>NaN</td>\n",
              "      <td>NaN</td>\n",
              "      <td>NaN</td>\n",
              "    </tr>\n",
              "    <tr>\n",
              "      <th>25%</th>\n",
              "      <td>1991.000000</td>\n",
              "      <td>4.000000</td>\n",
              "      <td>8.000000</td>\n",
              "      <td>NaN</td>\n",
              "      <td>NaN</td>\n",
              "      <td>NaN</td>\n",
              "      <td>NaN</td>\n",
              "      <td>NaN</td>\n",
              "      <td>NaN</td>\n",
              "      <td>NaN</td>\n",
              "      <td>...</td>\n",
              "      <td>NaN</td>\n",
              "      <td>NaN</td>\n",
              "      <td>NaN</td>\n",
              "      <td>NaN</td>\n",
              "      <td>NaN</td>\n",
              "      <td>NaN</td>\n",
              "      <td>NaN</td>\n",
              "      <td>NaN</td>\n",
              "      <td>NaN</td>\n",
              "      <td>NaN</td>\n",
              "    </tr>\n",
              "    <tr>\n",
              "      <th>50%</th>\n",
              "      <td>2009.000000</td>\n",
              "      <td>6.000000</td>\n",
              "      <td>15.000000</td>\n",
              "      <td>NaN</td>\n",
              "      <td>NaN</td>\n",
              "      <td>NaN</td>\n",
              "      <td>NaN</td>\n",
              "      <td>NaN</td>\n",
              "      <td>NaN</td>\n",
              "      <td>NaN</td>\n",
              "      <td>...</td>\n",
              "      <td>NaN</td>\n",
              "      <td>NaN</td>\n",
              "      <td>NaN</td>\n",
              "      <td>NaN</td>\n",
              "      <td>NaN</td>\n",
              "      <td>NaN</td>\n",
              "      <td>NaN</td>\n",
              "      <td>NaN</td>\n",
              "      <td>NaN</td>\n",
              "      <td>NaN</td>\n",
              "    </tr>\n",
              "    <tr>\n",
              "      <th>75%</th>\n",
              "      <td>2014.000000</td>\n",
              "      <td>9.000000</td>\n",
              "      <td>23.000000</td>\n",
              "      <td>NaN</td>\n",
              "      <td>NaN</td>\n",
              "      <td>NaN</td>\n",
              "      <td>NaN</td>\n",
              "      <td>NaN</td>\n",
              "      <td>NaN</td>\n",
              "      <td>NaN</td>\n",
              "      <td>...</td>\n",
              "      <td>NaN</td>\n",
              "      <td>NaN</td>\n",
              "      <td>NaN</td>\n",
              "      <td>NaN</td>\n",
              "      <td>NaN</td>\n",
              "      <td>NaN</td>\n",
              "      <td>NaN</td>\n",
              "      <td>NaN</td>\n",
              "      <td>NaN</td>\n",
              "      <td>NaN</td>\n",
              "    </tr>\n",
              "    <tr>\n",
              "      <th>max</th>\n",
              "      <td>2017.000000</td>\n",
              "      <td>12.000000</td>\n",
              "      <td>31.000000</td>\n",
              "      <td>NaN</td>\n",
              "      <td>NaN</td>\n",
              "      <td>NaN</td>\n",
              "      <td>NaN</td>\n",
              "      <td>NaN</td>\n",
              "      <td>NaN</td>\n",
              "      <td>NaN</td>\n",
              "      <td>...</td>\n",
              "      <td>NaN</td>\n",
              "      <td>NaN</td>\n",
              "      <td>NaN</td>\n",
              "      <td>NaN</td>\n",
              "      <td>NaN</td>\n",
              "      <td>NaN</td>\n",
              "      <td>NaN</td>\n",
              "      <td>NaN</td>\n",
              "      <td>NaN</td>\n",
              "      <td>NaN</td>\n",
              "    </tr>\n",
              "  </tbody>\n",
              "</table>\n",
              "<p>11 rows × 24 columns</p>\n",
              "</div>\n",
              "      <button class=\"colab-df-convert\" onclick=\"convertToInteractive('df-24d2685d-a428-40e5-ad5e-c4ecd9ad590e')\"\n",
              "              title=\"Convert this dataframe to an interactive table.\"\n",
              "              style=\"display:none;\">\n",
              "        \n",
              "  <svg xmlns=\"http://www.w3.org/2000/svg\" height=\"24px\"viewBox=\"0 0 24 24\"\n",
              "       width=\"24px\">\n",
              "    <path d=\"M0 0h24v24H0V0z\" fill=\"none\"/>\n",
              "    <path d=\"M18.56 5.44l.94 2.06.94-2.06 2.06-.94-2.06-.94-.94-2.06-.94 2.06-2.06.94zm-11 1L8.5 8.5l.94-2.06 2.06-.94-2.06-.94L8.5 2.5l-.94 2.06-2.06.94zm10 10l.94 2.06.94-2.06 2.06-.94-2.06-.94-.94-2.06-.94 2.06-2.06.94z\"/><path d=\"M17.41 7.96l-1.37-1.37c-.4-.4-.92-.59-1.43-.59-.52 0-1.04.2-1.43.59L10.3 9.45l-7.72 7.72c-.78.78-.78 2.05 0 2.83L4 21.41c.39.39.9.59 1.41.59.51 0 1.02-.2 1.41-.59l7.78-7.78 2.81-2.81c.8-.78.8-2.07 0-2.86zM5.41 20L4 18.59l7.72-7.72 1.47 1.35L5.41 20z\"/>\n",
              "  </svg>\n",
              "      </button>\n",
              "      \n",
              "  <style>\n",
              "    .colab-df-container {\n",
              "      display:flex;\n",
              "      flex-wrap:wrap;\n",
              "      gap: 12px;\n",
              "    }\n",
              "\n",
              "    .colab-df-convert {\n",
              "      background-color: #E8F0FE;\n",
              "      border: none;\n",
              "      border-radius: 50%;\n",
              "      cursor: pointer;\n",
              "      display: none;\n",
              "      fill: #1967D2;\n",
              "      height: 32px;\n",
              "      padding: 0 0 0 0;\n",
              "      width: 32px;\n",
              "    }\n",
              "\n",
              "    .colab-df-convert:hover {\n",
              "      background-color: #E2EBFA;\n",
              "      box-shadow: 0px 1px 2px rgba(60, 64, 67, 0.3), 0px 1px 3px 1px rgba(60, 64, 67, 0.15);\n",
              "      fill: #174EA6;\n",
              "    }\n",
              "\n",
              "    [theme=dark] .colab-df-convert {\n",
              "      background-color: #3B4455;\n",
              "      fill: #D2E3FC;\n",
              "    }\n",
              "\n",
              "    [theme=dark] .colab-df-convert:hover {\n",
              "      background-color: #434B5C;\n",
              "      box-shadow: 0px 1px 3px 1px rgba(0, 0, 0, 0.15);\n",
              "      filter: drop-shadow(0px 1px 2px rgba(0, 0, 0, 0.3));\n",
              "      fill: #FFFFFF;\n",
              "    }\n",
              "  </style>\n",
              "\n",
              "      <script>\n",
              "        const buttonEl =\n",
              "          document.querySelector('#df-24d2685d-a428-40e5-ad5e-c4ecd9ad590e button.colab-df-convert');\n",
              "        buttonEl.style.display =\n",
              "          google.colab.kernel.accessAllowed ? 'block' : 'none';\n",
              "\n",
              "        async function convertToInteractive(key) {\n",
              "          const element = document.querySelector('#df-24d2685d-a428-40e5-ad5e-c4ecd9ad590e');\n",
              "          const dataTable =\n",
              "            await google.colab.kernel.invokeFunction('convertToInteractive',\n",
              "                                                     [key], {});\n",
              "          if (!dataTable) return;\n",
              "\n",
              "          const docLinkHtml = 'Like what you see? Visit the ' +\n",
              "            '<a target=\"_blank\" href=https://colab.research.google.com/notebooks/data_table.ipynb>data table notebook</a>'\n",
              "            + ' to learn more about interactive tables.';\n",
              "          element.innerHTML = '';\n",
              "          dataTable['output_type'] = 'display_data';\n",
              "          await google.colab.output.renderOutput(dataTable, element);\n",
              "          const docLink = document.createElement('div');\n",
              "          docLink.innerHTML = docLinkHtml;\n",
              "          element.appendChild(docLink);\n",
              "        }\n",
              "      </script>\n",
              "    </div>\n",
              "  </div>\n",
              "  "
            ],
            "text/plain": [
              "                 year          month            day target country    state  \\\n",
              "count   181691.000000  181691.000000  181691.000000         181691   181691   \n",
              "unique            NaN            NaN            NaN            205     2856   \n",
              "top               NaN            NaN            NaN           Iraq  Baghdad   \n",
              "freq              NaN            NaN            NaN          24636     7645   \n",
              "mean      2002.638997       6.467277      15.505644            NaN      NaN   \n",
              "std         13.259430       3.388303       8.814045            NaN      NaN   \n",
              "min       1970.000000       0.000000       0.000000            NaN      NaN   \n",
              "25%       1991.000000       4.000000       8.000000            NaN      NaN   \n",
              "50%       2009.000000       6.000000      15.000000            NaN      NaN   \n",
              "75%       2014.000000       9.000000      23.000000            NaN      NaN   \n",
              "max       2017.000000      12.000000      31.000000            NaN      NaN   \n",
              "\n",
              "           city      longitude       latitude   location action type  ...  \\\n",
              "count    181691  181691.000000  181691.000000     181691      181691  ...   \n",
              "unique    36675   48040.000000   48323.000000      44110           6  ...   \n",
              "top     Unknown      44.371773      33.303566  not known   not known  ...   \n",
              "freq       9775    7521.000000    7521.000000     126196      152680  ...   \n",
              "mean        NaN            NaN            NaN        NaN         NaN  ...   \n",
              "std         NaN            NaN            NaN        NaN         NaN  ...   \n",
              "min         NaN            NaN            NaN        NaN         NaN  ...   \n",
              "25%         NaN            NaN            NaN        NaN         NaN  ...   \n",
              "50%         NaN            NaN            NaN        NaN         NaN  ...   \n",
              "75%         NaN            NaN            NaN        NaN         NaN  ...   \n",
              "max         NaN            NaN            NaN        NaN         NaN  ...   \n",
              "\n",
              "        nationality  weapon used    killed   wounded  \\\n",
              "count        181691       181691  181691.0  181691.0   \n",
              "unique          216           12     206.0     239.0   \n",
              "top            Iraq   Explosives       0.0       0.0   \n",
              "freq          24113        92426   88149.0  103275.0   \n",
              "mean            NaN          NaN       NaN       NaN   \n",
              "std             NaN          NaN       NaN       NaN   \n",
              "min             NaN          NaN       NaN       NaN   \n",
              "25%             NaN          NaN       NaN       NaN   \n",
              "50%             NaN          NaN       NaN       NaN   \n",
              "75%             NaN          NaN       NaN       NaN   \n",
              "max             NaN          NaN       NaN       NaN   \n",
              "\n",
              "                              area  \\\n",
              "count                       181691   \n",
              "unique                          12   \n",
              "top     Middle East & North Africa   \n",
              "freq                         50474   \n",
              "mean                           NaN   \n",
              "std                            NaN   \n",
              "min                            NaN   \n",
              "25%                            NaN   \n",
              "50%                            NaN   \n",
              "75%                            NaN   \n",
              "max                            NaN   \n",
              "\n",
              "       organisation claimed responsibility of attack  property damaged value  \\\n",
              "count                                         181691                  181691   \n",
              "unique                                          3537                     660   \n",
              "top                                          Unknown       no data available   \n",
              "freq                                           82782                  142702   \n",
              "mean                                             NaN                     NaN   \n",
              "std                                              NaN                     NaN   \n",
              "min                                              NaN                     NaN   \n",
              "25%                                              NaN                     NaN   \n",
              "50%                                              NaN                     NaN   \n",
              "75%                                              NaN                     NaN   \n",
              "max                                              NaN                     NaN   \n",
              "\n",
              "        doubt is it terrorism attack incident other than terrorism     motive  \n",
              "count                       181691.0                        181691     181691  \n",
              "unique                           4.0                             6      14491  \n",
              "top                              0.0                     not known  not known  \n",
              "freq                        138905.0                        152680     131130  \n",
              "mean                             NaN                           NaN        NaN  \n",
              "std                              NaN                           NaN        NaN  \n",
              "min                              NaN                           NaN        NaN  \n",
              "25%                              NaN                           NaN        NaN  \n",
              "50%                              NaN                           NaN        NaN  \n",
              "75%                              NaN                           NaN        NaN  \n",
              "max                              NaN                           NaN        NaN  \n",
              "\n",
              "[11 rows x 24 columns]"
            ]
          },
          "execution_count": 88,
          "metadata": {},
          "output_type": "execute_result"
        }
      ],
      "source": [
        "# Statical inference from the database\n",
        "database.describe(include='all')"
      ]
    },
    {
      "cell_type": "code",
      "execution_count": null,
      "metadata": {
        "colab": {
          "base_uri": "https://localhost:8080/"
        },
        "id": "J9mKWqZp114h",
        "outputId": "4d606637-3120-49bf-c973-6825eb86564f"
      },
      "outputs": [
        {
          "data": {
            "text/plain": [
              "(181691, 24)"
            ]
          },
          "execution_count": 89,
          "metadata": {},
          "output_type": "execute_result"
        }
      ],
      "source": [
        "#Dimensions after cleaning\n",
        "database.shape"
      ]
    },
    {
      "cell_type": "markdown",
      "metadata": {
        "id": "lfaC8uMBlo_T"
      },
      "source": [
        "**EXPLORATORY DATA ANALYSIS** "
      ]
    },
    {
      "cell_type": "markdown",
      "metadata": {
        "id": "YBP_qWc8ouVP"
      },
      "source": [
        "QUESTION 1-\n",
        "\n",
        "FIND OUT NUMBER OF ACTIVE TERRORIST GROUPS WHICH ARE SPREADING THE THREAT OF TERRORISM ACROSS THE WORLD AND ALSO DETECT MOST ACTIVE ORGANISATION WHO HAS TAKEN RESPONSIBILITY OF ATTACKS."
      ]
    },
    {
      "cell_type": "code",
      "execution_count": null,
      "metadata": {
        "colab": {
          "base_uri": "https://localhost:8080/"
        },
        "id": "sKj89ryDGT_f",
        "outputId": "e471f905-bfbf-4a78-e13f-0c80fafd7b8e"
      },
      "outputs": [
        {
          "name": "stdout",
          "output_type": "stream",
          "text": [
            "0                                             MANO-D\n",
            "1                 23rd of September Communist League\n",
            "2                                            Unknown\n",
            "3                                            Unknown\n",
            "4                                            Unknown\n",
            "                             ...                    \n",
            "181686                                    Al-Shabaab\n",
            "181687                             Muslim extremists\n",
            "181688    Bangsamoro Islamic Freedom Movement (BIFM)\n",
            "181689                                       Unknown\n",
            "181690                                       Unknown\n",
            "Name: organisation claimed responsibility of attack, Length: 181691, dtype: object\n"
          ]
        }
      ],
      "source": [
        "#extract the column\n",
        "organization_taken_responsibility=database.loc[:,'organisation claimed responsibility of attack']\n",
        "print(organization_taken_responsibility)"
      ]
    },
    {
      "cell_type": "code",
      "execution_count": null,
      "metadata": {
        "colab": {
          "base_uri": "https://localhost:8080/"
        },
        "id": "4qmVrT8H5k3P",
        "outputId": "3ec66b46-1085-4f29-8e4f-5b34cb68444d"
      },
      "outputs": [
        {
          "data": {
            "text/plain": [
              "array(['MANO-D', '23rd of September Communist League', 'Unknown', ...,\n",
              "       'Fatoni Warriors', 'Minorities of Metropolitan Attacks',\n",
              "       'Baloch Republican Party'], dtype=object)"
            ]
          },
          "execution_count": 91,
          "metadata": {},
          "output_type": "execute_result"
        }
      ],
      "source": [
        "#unique values from a series. \n",
        "database['organisation claimed responsibility of attack'].unique()"
      ]
    },
    {
      "cell_type": "code",
      "execution_count": null,
      "metadata": {
        "colab": {
          "base_uri": "https://localhost:8080/"
        },
        "id": "OiP8zeQy6BzS",
        "outputId": "a8e98b45-598d-4211-8107-df77d27f05b3"
      },
      "outputs": [
        {
          "data": {
            "text/plain": [
              "3537"
            ]
          },
          "execution_count": 92,
          "metadata": {},
          "output_type": "execute_result"
        }
      ],
      "source": [
        "# count of unique values from a series. \n",
        "database['organisation claimed responsibility of attack'].nunique()"
      ]
    },
    {
      "cell_type": "markdown",
      "metadata": {
        "id": "PpB-4Bva6PLX"
      },
      "source": [
        "There are 3537 active organizations that are claimings the attack."
      ]
    },
    {
      "cell_type": "code",
      "execution_count": null,
      "metadata": {
        "colab": {
          "base_uri": "https://localhost:8080/"
        },
        "id": "c26IFm8f5CK1",
        "outputId": "c6e40b84-1742-4b97-acff-110a4bd89288"
      },
      "outputs": [
        {
          "name": "stdout",
          "output_type": "stream",
          "text": [
            "Unknown                                             82782\n",
            "Taliban                                              7478\n",
            "Islamic State of Iraq and the Levant (ISIL)          5613\n",
            "Shining Path (SL)                                    4555\n",
            "Farabundo Marti National Liberation Front (FMLN)     3351\n",
            "Al-Shabaab                                           3288\n",
            "New People's Army (NPA)                              2772\n",
            "Irish Republican Army (IRA)                          2671\n",
            "Revolutionary Armed Forces of Colombia (FARC)        2487\n",
            "Boko Haram                                           2418\n",
            "Name: organisation claimed responsibility of attack, dtype: int64\n"
          ]
        }
      ],
      "source": [
        "# finding out the top most active organizations claiming attacks.\n",
        "z=database['organisation claimed responsibility of attack'].value_counts().head(10)\n",
        "print(z)"
      ]
    },
    {
      "cell_type": "code",
      "execution_count": null,
      "metadata": {
        "colab": {
          "base_uri": "https://localhost:8080/"
        },
        "id": "zSEELKi47Zqw",
        "outputId": "7dcc9e4c-d5fb-4016-af6e-1c0b75309a61"
      },
      "outputs": [
        {
          "data": {
            "image/png": "[encoded data removed]",
            "text/plain": [
              "<Figure size 720x1080 with 1 Axes>"
            ]
          },
          "metadata": {},
          "output_type": "display_data"
        }
      ],
      "source": [
        "groups=['Unknown','Taliban','Islamic state of Iraq and the levant(ISIL)','Shining path(SL)',\n",
        "        'Farabundo Marti National Liberation Front (FMLN)','Al-Shabaab',\"New People's Army (NPA)\",\n",
        "        'Irish Republican Army (IRA)','Revolutionary Armed Forces of Colombia (FARC)','Boko Haram',]\n",
        "data=[82782,7478,5613,4555,3351,3288,2772,2671,2487,2418]                                                      \n",
        "fig = plt.figure(figsize =(10, 15))\n",
        "colors = snb.color_palette('bright')\n",
        "plt.pie(data,labels = groups,autopct='%1.2f%%')\n",
        "plt.title('Active terrorist organisation in world',fontdict={'fontsize':20,'fontweight':'bold','fontstyle':'oblique'})\n",
        "plt.show()"
      ]
    },
    {
      "cell_type": "markdown",
      "metadata": {
        "id": "ycs84soGyQvP"
      },
      "source": [
        "In the given data, most of the attacks are claimed by \"Taliban\" with 6.37% and 70.50% attacks are claimed by unknown groups.\n",
        "so,we should pay more attention on the  minor and major activities of Taliban by the Research and Analysis Wings.\n"
      ]
    },
    {
      "cell_type": "markdown",
      "metadata": {
        "id": "Jj70CFrT2lKF"
      },
      "source": [
        "QUESTION NO.2-\n",
        "\n",
        "Find out the success rate of terrorist attacks and country ,city which is mostly targeted by the terrorist organisations"
      ]
    },
    {
      "cell_type": "code",
      "execution_count": null,
      "metadata": {
        "colab": {
          "base_uri": "https://localhost:8080/"
        },
        "id": "L_1i6woghBeL",
        "outputId": "adfad5f9-bdde-4295-9f94-fdb8637263d3"
      },
      "outputs": [
        {
          "data": {
            "text/plain": [
              "1    161632\n",
              "0     20059\n",
              "Name: success, dtype: int64"
            ]
          },
          "execution_count": 95,
          "metadata": {},
          "output_type": "execute_result"
        }
      ],
      "source": [
        "database['success'].value_counts()"
      ]
    },
    {
      "cell_type": "code",
      "execution_count": null,
      "metadata": {
        "id": "0x0ZGUVEoTBZ"
      },
      "outputs": [],
      "source": [
        "total_attacks=database['success'].count()"
      ]
    },
    {
      "cell_type": "code",
      "execution_count": null,
      "metadata": {
        "colab": {
          "base_uri": "https://localhost:8080/"
        },
        "id": "rqrAGbLanqMu",
        "outputId": "a3cf0bbc-9194-46d2-88d2-674673a05430"
      },
      "outputs": [
        {
          "name": "stdout",
          "output_type": "stream",
          "text": [
            "88.95982739926579\n"
          ]
        }
      ],
      "source": [
        "successful_attacks=161632\n",
        "unsuccessful_attacks=20059\n",
        "success_rate=successful_attacks/total_attacks*100\n",
        "print(success_rate)"
      ]
    },
    {
      "cell_type": "code",
      "execution_count": null,
      "metadata": {
        "colab": {
          "base_uri": "https://localhost:8080/"
        },
        "id": "xtXllzwvosu9",
        "outputId": "3458103b-62fa-44a6-ae2e-23fc15fd06ec"
      },
      "outputs": [
        {
          "name": "stdout",
          "output_type": "stream",
          "text": [
            "11.040172600734213\n"
          ]
        }
      ],
      "source": [
        "unsuccess_rate=unsuccessful_attacks/total_attacks*100\n",
        "print(unsuccess_rate)"
      ]
    },
    {
      "cell_type": "markdown",
      "metadata": {
        "id": "-Q9YVITGpU6S"
      },
      "source": [
        "Terrorists have 88.96% of success rate which is a huge number,it denotes that we should be extra causious regarding their targets countries, so that we can be prepared to counter the attack\n"
      ]
    },
    {
      "cell_type": "code",
      "execution_count": null,
      "metadata": {
        "colab": {
          "base_uri": "https://localhost:8080/"
        },
        "id": "B9Kmq3Y_3ev6",
        "outputId": "f28288a2-c3e7-49eb-c462-b72f088e844a"
      },
      "outputs": [
        {
          "name": "stdout",
          "output_type": "stream",
          "text": [
            "Iraq              24636\n",
            "Pakistan          14368\n",
            "Afghanistan       12731\n",
            "India             11960\n",
            "Colombia           8306\n",
            "Philippines        6908\n",
            "Peru               6096\n",
            "El Salvador        5320\n",
            "United Kingdom     5235\n",
            "Turkey             4292\n",
            "Name: target country, dtype: int64\n"
          ]
        }
      ],
      "source": [
        "a=database['target country'].value_counts().head(10)\n",
        "print(a)"
      ]
    },
    {
      "cell_type": "code",
      "execution_count": null,
      "metadata": {
        "colab": {
          "base_uri": "https://localhost:8080/",
          "height": 1000
        },
        "id": "yyu7eU11L5WB",
        "outputId": "d983c959-554b-4fd9-fe74-206bb1a87b14"
      },
      "outputs": [
        {
          "data": {
            "image/png": "[encoded data removed]",
            "text/plain": [
              "<Figure size 7200x5760 with 1 Axes>"
            ]
          },
          "metadata": {},
          "output_type": "display_data"
        }
      ],
      "source": [
        "# Create the plot object\n",
        "a.plot(kind='bar',color='green',width=0.8)\n",
        "plt.title('Target countries',fontdict={'fontsize':20,'fontweight':'bold','fontstyle':'oblique'})\n",
        "plt.ylabel('Number of attacks',fontdict={'fontsize':20,'fontweight':'normal'})\n",
        "plt.xlabel('countries',fontdict={'fontsize':20,'fontweight':'normal'})\n",
        "plt.rcParams['figure.figsize'] = (10,10)\n"
      ]
    },
    {
      "cell_type": "code",
      "execution_count": null,
      "metadata": {
        "colab": {
          "base_uri": "https://localhost:8080/"
        },
        "id": "Fqq6wR3I6zEm",
        "outputId": "b53aa3c3-b7b9-4a52-d9be-b4c1207af39b"
      },
      "outputs": [
        {
          "name": "stdout",
          "output_type": "stream",
          "text": [
            "Unknown         9775\n",
            "Baghdad         7589\n",
            "Karachi         2652\n",
            "Lima            2359\n",
            "Mosul           2265\n",
            "Belfast         2171\n",
            "Santiago        1621\n",
            "Mogadishu       1581\n",
            "San Salvador    1558\n",
            "Istanbul        1048\n",
            "Name: city, dtype: int64\n"
          ]
        }
      ],
      "source": [
        "a=database['city'].value_counts().head(10)\n",
        "print(a)"
      ]
    },
    {
      "cell_type": "markdown",
      "metadata": {
        "id": "6cjeMrHwGCf9"
      },
      "source": [
        "Iraq is the most affected country by terrorist attack.and bagdad is the most affected city of Iraq, so we should be extra vigilant for suspicious situations,in this country.And we should also take care about the countries like Pakistan,India,Columbia as this are the top 5 targeted countries by the terrorist groups."
      ]
    },
    {
      "cell_type": "markdown",
      "metadata": {
        "id": "XG-KbEE6PoIr"
      },
      "source": [
        "QUESTION-3\n",
        "\n",
        "Finding out the pattern in the growth of number of attacks in following years "
      ]
    },
    {
      "cell_type": "code",
      "execution_count": null,
      "metadata": {
        "colab": {
          "base_uri": "https://localhost:8080/"
        },
        "id": "ykMXPPI_HnZI",
        "outputId": "19375fd6-3235-413f-948d-071d9c04bc15"
      },
      "outputs": [
        {
          "data": {
            "text/plain": [
              "0         1970\n",
              "1         1970\n",
              "2         1970\n",
              "3         1970\n",
              "4         1970\n",
              "          ... \n",
              "181686    2017\n",
              "181687    2017\n",
              "181688    2017\n",
              "181689    2017\n",
              "181690    2017\n",
              "Name: year, Length: 181691, dtype: int64"
            ]
          },
          "execution_count": 102,
          "metadata": {},
          "output_type": "execute_result"
        }
      ],
      "source": [
        "#extract the columns \n",
        "database.loc[:,'year']"
      ]
    },
    {
      "cell_type": "code",
      "execution_count": null,
      "metadata": {
        "colab": {
          "base_uri": "https://localhost:8080/"
        },
        "id": "LHj1U1S4Wv18",
        "outputId": "369cb34c-f712-4243-80ae-a64826da994c"
      },
      "outputs": [
        {
          "data": {
            "text/plain": [
              "array([1970, 1971, 1972, 1973, 1974, 1975, 1976, 1977, 1978, 1979, 1980,\n",
              "       1981, 1986, 1982, 1983, 1984, 1985, 1987, 1988, 1989, 1990, 1991,\n",
              "       1992, 1994, 1995, 1996, 1997, 1998, 1999, 2000, 2001, 2002, 2003,\n",
              "       2004, 2005, 2006, 2007, 2008, 2009, 2010, 2011, 2012, 2013, 2014,\n",
              "       2015, 2016, 2017])"
            ]
          },
          "execution_count": 103,
          "metadata": {},
          "output_type": "execute_result"
        }
      ],
      "source": [
        "database['year'].unique()"
      ]
    },
    {
      "cell_type": "code",
      "execution_count": null,
      "metadata": {
        "colab": {
          "base_uri": "https://localhost:8080/"
        },
        "id": "NMJYnpQvXJUR",
        "outputId": "9175ce7d-f5da-4e16-cc44-9621483589ab"
      },
      "outputs": [
        {
          "data": {
            "text/plain": [
              "47"
            ]
          },
          "execution_count": 104,
          "metadata": {},
          "output_type": "execute_result"
        }
      ],
      "source": [
        "database['year'].nunique()"
      ]
    },
    {
      "cell_type": "markdown",
      "metadata": {
        "id": "hAJDIEOUD87g"
      },
      "source": [
        "we have the data of 47 years ,i.e from 1970 to 2017."
      ]
    },
    {
      "cell_type": "code",
      "execution_count": null,
      "metadata": {
        "colab": {
          "base_uri": "https://localhost:8080/"
        },
        "id": "5ahpZfXMFmLV",
        "outputId": "a74bbfcd-257b-4c2d-9d38-45ebfe9ff2f6"
      },
      "outputs": [
        {
          "name": "stdout",
          "output_type": "stream",
          "text": [
            "[1970 1971 1972 1973 1974 1975 1976 1977 1978 1979 1980 1981 1986 1982\n",
            " 1983 1984 1985 1987 1988 1989 1990 1991 1992 1994 1995 1996 1997 1998\n",
            " 1999 2000 2001 2002 2003 2004 2005 2006 2007 2008 2009 2010 2011 2012\n",
            " 2013 2014 2015 2016 2017]\n",
            "[651, 471, 568, 473, 581, 740, 923, 1319, 1526, 2662, 2662, 2586, 2544, 2870, 3495, 2915, 2860, 3183, 3721, 4324, 3887, 4683, 5071, 3456, 3081, 3058, 3197, 934, 1395, 1814, 1906, 1333, 1278, 1166, 2017, 2758, 3242, 4805, 4721, 4826, 5076, 8522, 12036, 16903, 14965, 13587, 10900]\n"
          ]
        }
      ],
      "source": [
        "years=database['year'].unique()\n",
        "print(years)\n",
        "number_of_attacks=list(database['year'].value_counts(ascending=True).sort_index(ascending=True))\n",
        "print(number_of_attacks)"
      ]
    },
    {
      "cell_type": "code",
      "execution_count": null,
      "metadata": {
        "colab": {
          "base_uri": "https://localhost:8080/",
          "height": 636
        },
        "id": "AqgoHqhtLM_Z",
        "outputId": "125de123-54e7-44c3-c320-d36666ff7ff3"
      },
      "outputs": [
        {
          "data": {
            "image/png": "[encoded data removed]",
            "text/plain": [
              "<Figure size 720x720 with 1 Axes>"
            ]
          },
          "metadata": {},
          "output_type": "display_data"
        }
      ],
      "source": [
        "plt.plot(years,number_of_attacks,color='red', marker='o')\n",
        "plt.title('Number_of_attacks v/s years',fontdict={'fontsize':20,'fontweight':'bold','fontstyle':'oblique'})\n",
        "plt.xlabel('Years',fontdict={'fontsize':20,'fontweight':'normal','fontstyle':'oblique'})\n",
        "plt.ylabel('Number of attacks',fontdict={'fontsize':20,'fontweight':'normal','fontstyle':'oblique'})\n",
        "plt.grid(True)\n",
        "plt.show()"
      ]
    },
    {
      "cell_type": "markdown",
      "metadata": {
        "id": "HipZIX_6oW9d"
      },
      "source": [
        "Summarizing all the terrorist attacks over the years can provide us an idea about\n",
        "how terrorism has evolved and what rate has it impacted the world each year.Graph\n",
        "shows data from 1970 to 2017 for the total number of attacks happened each year. Terrorist\n",
        "attacks were quite low in numbers in the year 1970. Terrorism then had a fairly rise\n",
        "in the 1980s and early 1990s and was considerably low in the next decade but then terrorism has substantially \n",
        "rose from early the 2005 and highest attacks were in 2014."
      ]
    },
    {
      "cell_type": "markdown",
      "metadata": {
        "id": "qtJI0PQQx-3H"
      },
      "source": [
        "QUESTION-4\n",
        "\n",
        "Hostile\n",
        "environment and global tension have increased because of the number of attacks in recent\n",
        "years.so its very necessary to find out the weapons used behind this attack\n"
      ]
    },
    {
      "cell_type": "code",
      "execution_count": null,
      "metadata": {
        "id": "QUwL2ok0kEit"
      },
      "outputs": [],
      "source": [
        "weapon=list(database['weapon used'].unique())"
      ]
    },
    {
      "cell_type": "code",
      "execution_count": null,
      "metadata": {
        "colab": {
          "base_uri": "https://localhost:8080/"
        },
        "id": "WU0RIcKskqdu",
        "outputId": "0aab4e48-04da-4346-bbe8-beabe9be66d0"
      },
      "outputs": [
        {
          "data": {
            "text/plain": [
              "['Unknown',\n",
              " 'Explosives',\n",
              " 'Incendiary',\n",
              " 'Firearms',\n",
              " 'Chemical',\n",
              " 'Melee',\n",
              " 'Sabotage Equipment',\n",
              " 'Vehicle (not to include vehicle-borne explosives, i.e., car or truck bombs)',\n",
              " 'Fake Weapons',\n",
              " 'Radiological',\n",
              " 'Other',\n",
              " 'Biological']"
            ]
          },
          "execution_count": 108,
          "metadata": {},
          "output_type": "execute_result"
        }
      ],
      "source": [
        "weapon"
      ]
    },
    {
      "cell_type": "code",
      "execution_count": null,
      "metadata": {
        "colab": {
          "base_uri": "https://localhost:8080/"
        },
        "id": "YZX7v71RT5_x",
        "outputId": "4d085750-afa8-4069-fdc8-5caef874b137"
      },
      "outputs": [
        {
          "name": "stdout",
          "output_type": "stream",
          "text": [
            "Explosives                                                                     92426\n",
            "Firearms                                                                       58524\n",
            "Unknown                                                                        15157\n",
            "Incendiary                                                                     11135\n",
            "Melee                                                                           3655\n",
            "Chemical                                                                         321\n",
            "Sabotage Equipment                                                               141\n",
            "Vehicle (not to include vehicle-borne explosives, i.e., car or truck bombs)      136\n",
            "Other                                                                            114\n",
            "Biological                                                                        35\n",
            "Name: weapon used, dtype: int64\n"
          ]
        }
      ],
      "source": [
        "b=database['weapon used'].value_counts().head(10)\n",
        "print(b)"
      ]
    },
    {
      "cell_type": "code",
      "execution_count": null,
      "metadata": {
        "colab": {
          "base_uri": "https://localhost:8080/"
        },
        "id": "cMMrVE70BIBP",
        "outputId": "59d8ede9-f3c7-489f-98a6-2c4cfdbb07bc"
      },
      "outputs": [
        {
          "data": {
            "image/png": "[encoded data removed]",
            "text/plain": [
              "<Figure size 864x432 with 1 Axes>"
            ]
          },
          "metadata": {},
          "output_type": "display_data"
        }
      ],
      "source": [
        "# Most No of attacks by various Terrorist Groups\n",
        "plt.subplots(figsize=(12,6))\n",
        "bar = snb.barplot(x=database['weapon used'].value_counts(), y=database['weapon used'].value_counts().index[0:15],palette=('Spectral'))\n",
        "plt.xlabel('Number of Attacks', fontsize=14)\n",
        "plt.xticks([10000,20000,30000,40000,50000,60000,70000,80000,90000,100000])\n",
        "plt.ylabel('Type of weapons', fontsize=14)\n",
        "bar.set_title('Weapons used by terrorist Groups for Terror Attacks',fontdict={'fontsize':16,'fontweight':'bold'}, y=1.03);"
      ]
    },
    {
      "cell_type": "markdown",
      "metadata": {
        "id": "_8PliY4nI0dh"
      },
      "source": [
        "In the following graph we can see that Explosives are used at maximum times for the attacks,it shows that the terrorist groups are very much aware with the use of explosives,and may have the reservoirs of explosives in abundance.Terrorist groups are also awared about firearms,incendiary,melee.\n",
        "Many other types of weapons are also used by them,but they are in very less number as compared to above mentioned weapons,so in this graph they are shown as blank.\n",
        "\n",
        "\n"
      ]
    },
    {
      "cell_type": "code",
      "execution_count": null,
      "metadata": {
        "colab": {
          "base_uri": "https://localhost:8080/"
        },
        "id": "rc3NuxerHkWq",
        "outputId": "f1f6542a-409a-400f-f928-361bb6677c2e"
      },
      "outputs": [
        {
          "data": {
            "text/plain": [
              "Chemical                                                                       321\n",
              "Sabotage Equipment                                                             141\n",
              "Vehicle (not to include vehicle-borne explosives, i.e., car or truck bombs)    136\n",
              "Other                                                                          114\n",
              "Biological                                                                      35\n",
              "Fake Weapons                                                                    33\n",
              "Radiological                                                                    14\n",
              "Name: weapon used, dtype: int64"
            ]
          },
          "execution_count": 111,
          "metadata": {},
          "output_type": "execute_result"
        }
      ],
      "source": [
        "less_weapons_used=database['weapon used'].value_counts().tail(7)\n",
        "less_weapons_used"
      ]
    },
    {
      "cell_type": "markdown",
      "metadata": {
        "id": "y47x34epn0r2"
      },
      "source": [
        "QUESTION-5\n",
        "\n",
        "Find out the favourable attacking type ,used by terrorist to spread the antagonistic psychology of terrorism in the society."
      ]
    },
    {
      "cell_type": "code",
      "execution_count": null,
      "metadata": {
        "id": "5L-7amD9oxu6"
      },
      "outputs": [],
      "source": [
        "attacktype=database.loc[:,'attack type']"
      ]
    },
    {
      "cell_type": "code",
      "execution_count": null,
      "metadata": {
        "colab": {
          "base_uri": "https://localhost:8080/"
        },
        "id": "MihsY31nqAnZ",
        "outputId": "b3903ab7-9ff3-4401-bdee-2af6810b78e4"
      },
      "outputs": [
        {
          "data": {
            "text/plain": [
              "array(['Assassination', 'Hostage Taking (Kidnapping)',\n",
              "       'Bombing/Explosion', 'Facility/Infrastructure Attack',\n",
              "       'Armed Assault', 'Hijacking', 'Unknown', 'Unarmed Assault',\n",
              "       'Hostage Taking (Barricade Incident)'], dtype=object)"
            ]
          },
          "execution_count": 113,
          "metadata": {},
          "output_type": "execute_result"
        }
      ],
      "source": [
        "database['attack type'].unique()"
      ]
    },
    {
      "cell_type": "code",
      "execution_count": null,
      "metadata": {
        "colab": {
          "base_uri": "https://localhost:8080/"
        },
        "id": "OHJ9z7bVp0bX",
        "outputId": "61abe5ac-8ebe-4c93-dc09-b66893579787"
      },
      "outputs": [
        {
          "data": {
            "text/plain": [
              "9"
            ]
          },
          "execution_count": 114,
          "metadata": {},
          "output_type": "execute_result"
        }
      ],
      "source": [
        "database['attack type'].nunique()"
      ]
    },
    {
      "cell_type": "markdown",
      "metadata": {
        "id": "8ybZj7ujqMH7"
      },
      "source": [
        "Terrorist has used 9 different kinds of attacking habit,for creating the hostile environment in peoples in different country."
      ]
    },
    {
      "cell_type": "code",
      "execution_count": null,
      "metadata": {
        "colab": {
          "base_uri": "https://localhost:8080/"
        },
        "id": "UCiquaKRqqVy",
        "outputId": "3a1467ff-edf7-41e2-9b9e-4f008a9963b0"
      },
      "outputs": [
        {
          "name": "stdout",
          "output_type": "stream",
          "text": [
            "Bombing/Explosion                      88255\n",
            "Armed Assault                          42669\n",
            "Assassination                          19312\n",
            "Hostage Taking (Kidnapping)            11158\n",
            "Facility/Infrastructure Attack         10356\n",
            "Unknown                                 7276\n",
            "Unarmed Assault                         1015\n",
            "Hostage Taking (Barricade Incident)      991\n",
            "Hijacking                                659\n",
            "Name: attack type, dtype: int64\n"
          ]
        }
      ],
      "source": [
        "b=database['attack type'].value_counts().head(9)\n",
        "print(b)"
      ]
    },
    {
      "cell_type": "code",
      "execution_count": null,
      "metadata": {
        "colab": {
          "base_uri": "https://localhost:8080/"
        },
        "id": "eg0r8oZ_BytV",
        "outputId": "f7ea3424-7d45-4726-9349-6403886cd5fa"
      },
      "outputs": [
        {
          "name": "stdout",
          "output_type": "stream",
          "text": [
            "['Assassination' 'Hostage Taking (Kidnapping)' 'Bombing/Explosion'\n",
            " 'Facility/Infrastructure Attack' 'Armed Assault' 'Hijacking' 'Unknown'\n",
            " 'Unarmed Assault' 'Hostage Taking (Barricade Incident)']\n",
            "[19312, 11158, 88255, 10356, 42669, 659, 7276, 1015, 991]\n"
          ]
        }
      ],
      "source": [
        "attacking_type=database['attack type'].unique()\n",
        "print(attacking_type)\n",
        "number_of_attacks=[19312,11158,88255,10356,42669,659,7276,1015,991]\n",
        "print(number_of_attacks)"
      ]
    },
    {
      "cell_type": "code",
      "execution_count": null,
      "metadata": {
        "colab": {
          "base_uri": "https://localhost:8080/"
        },
        "id": "REaY5oWKCa5J",
        "outputId": "3ac36f2d-53d6-48bf-fd4e-c3f424284e14"
      },
      "outputs": [
        {
          "data": {
            "image/png": "[encoded data removed]",
            "text/plain": [
              "<Figure size 720x720 with 1 Axes>"
            ]
          },
          "metadata": {},
          "output_type": "display_data"
        }
      ],
      "source": [
        "plt.barh(attacking_type,number_of_attacks)\n",
        " # setting label of y-axis\n",
        "plt.ylabel(\"attacking type\",fontdict={'fontsize':15,'fontweight':'normal','fontstyle':'oblique'})\n",
        " # setting label of x-axis\n",
        "plt.xlabel(\"number of attacks\",fontdict={'fontsize':15,'fontweight':'normal','fontstyle':'oblique'})\n",
        "plt.title(\"Attacking types used in terrorism\",fontdict={'fontsize':15,'fontweight':'normal','fontstyle':'oblique'})\n",
        "plt.show()"
      ]
    },
    {
      "cell_type": "markdown",
      "metadata": {
        "id": "CDBaGiiKG0JM"
      },
      "source": [
        "Bombing is the favourite attacking style of terrorist ,as they have used this specific style in highest number of attacks."
      ]
    },
    {
      "cell_type": "markdown",
      "metadata": {
        "id": "CFzAEKFgSr86"
      },
      "source": [
        "QUESTION 6\n",
        "\n",
        "Find out the favourable targets of terrorist organisation ,and also estimate the harm caused by their attacks"
      ]
    },
    {
      "cell_type": "code",
      "execution_count": null,
      "metadata": {
        "id": "Z-xrR3GBopKb"
      },
      "outputs": [],
      "source": [
        "targetData = database.loc[:,'target']"
      ]
    },
    {
      "cell_type": "code",
      "execution_count": null,
      "metadata": {
        "colab": {
          "base_uri": "https://localhost:8080/"
        },
        "id": "8FmoXuewkhQX",
        "outputId": "58011224-d1f4-409d-bdb0-48e8cc17a9e7"
      },
      "outputs": [
        {
          "data": {
            "text/plain": [
              "Private Citizens & Property       43511\n",
              "Military                          27984\n",
              "Police                            24506\n",
              "Government (General)              21283\n",
              "Business                          20669\n",
              "Transportation                     6799\n",
              "Utilities                          6023\n",
              "Unknown                            5898\n",
              "Religious Figures/Institutions     4440\n",
              "Educational Institution            4322\n",
              "Government (Diplomatic)            3573\n",
              "Terrorists/Non-State Militia       3039\n",
              "Journalists & Media                2948\n",
              "Violent Political Party            1866\n",
              "Airports & Aircraft                1343\n",
              "Telecommunication                  1009\n",
              "NGO                                 970\n",
              "Tourists                            440\n",
              "Maritime                            351\n",
              "Food or Water Supply                317\n",
              "Abortion Related                    263\n",
              "Other                               137\n",
              "Name: target, dtype: int64"
            ]
          },
          "execution_count": 119,
          "metadata": {},
          "output_type": "execute_result"
        }
      ],
      "source": [
        "target_data=database['target'].value_counts()\n",
        "target_data"
      ]
    },
    {
      "cell_type": "code",
      "execution_count": null,
      "metadata": {
        "colab": {
          "base_uri": "https://localhost:8080/",
          "height": 572
        },
        "id": "lt1s2PD0AUAK",
        "outputId": "b74166d5-d5f1-45e8-9527-cdbfdcde7be3"
      },
      "outputs": [
        {
          "data": {
            "image/png": "[encoded data removed]",
            "text/plain": [
              "<Figure size 1008x432 with 1 Axes>"
            ]
          },
          "metadata": {},
          "output_type": "display_data"
        }
      ],
      "source": [
        "# Plotting the Target Types in the attacks\n",
        "plt.subplots(figsize=[14,6])\n",
        "target_data.plot(kind='bar',color='pink')\n",
        "plt.xlabel('Target Types',fontsize = 14)\n",
        "plt.ylabel('Number of Attacks',fontsize = 14)\n",
        "plt.xticks(rotation = 90, fontsize = 12)\n",
        "plt.title('Prefered Targets', fontsize = 15);"
      ]
    },
    {
      "cell_type": "markdown",
      "metadata": {
        "id": "oD_iC_tFJuH_"
      },
      "source": [
        " Analyzing\n",
        "the type of target will help us understand their objective and most likely their motives.\n",
        "Terrorism is driven by an ideology that tries to make a change or impose an\n",
        "ideology therefore terrorist are attacking mostly on private citizens and property as the citizens are the largest part of the country.\n",
        "\n"
      ]
    },
    {
      "cell_type": "code",
      "execution_count": null,
      "metadata": {
        "id": "VNwp5p7wlENE"
      },
      "outputs": [],
      "source": [
        "nationality_data=database['nationality'].value_counts().head(20)"
      ]
    },
    {
      "cell_type": "code",
      "execution_count": null,
      "metadata": {
        "colab": {
          "base_uri": "https://localhost:8080/",
          "height": 499
        },
        "id": "e7BNan-RL1OC",
        "outputId": "739ad49c-96ba-4bbd-9022-eaca7a52f49f"
      },
      "outputs": [
        {
          "data": {
            "image/png": "[encoded data removed]",
            "text/plain": [
              "<Figure size 1008x432 with 1 Axes>"
            ]
          },
          "metadata": {},
          "output_type": "display_data"
        }
      ],
      "source": [
        "# Plotting the nationality of attackers\n",
        "plt.subplots(figsize=[14,6])\n",
        "nationality_data.plot(kind='bar',color='orange')\n",
        "plt.xlabel('nationality',fontsize = 14)\n",
        "plt.ylabel('Number of Attacks',fontsize = 14)\n",
        "plt.xticks(rotation = 90, fontsize = 12)\n",
        "plt.title('nationality of attackers', fontsize = 15);"
      ]
    },
    {
      "cell_type": "markdown",
      "metadata": {
        "id": "sAffzqKxbGEf"
      },
      "source": [
        "As the graph is showing that most of the attackers belong to Iraq. and Iraq is indubitably one of the countries most affected by terrorism.So,Iraq should aim to develop and implement comprehensive national responses to prevent and counter-terrorism ."
      ]
    },
    {
      "cell_type": "markdown",
      "metadata": {
        "id": "_0X8cY0AdcVf"
      },
      "source": [
        "QUESTION-7\n",
        "\n",
        "FINDING OUT THE TARGETS IN PARTICULAR CONTRIES.SO THAT WE CAN FOCUS MORE ON THE MOTIVE AND OBJECTIVE OF THE TERRORIST ATTACK ON THE COUNTRY."
      ]
    },
    {
      "cell_type": "code",
      "execution_count": null,
      "metadata": {
        "colab": {
          "base_uri": "https://localhost:8080/"
        },
        "id": "7_VrkgtxKAYM",
        "outputId": "bc9b3788-8793-47a0-b516-63ea811a93ba"
      },
      "outputs": [
        {
          "data": {
            "text/html": [
              "\n",
              "  <div id=\"df-56cf48e4-ce86-474f-bc56-c19ea1cf47c9\">\n",
              "    <div class=\"colab-df-container\">\n",
              "      <div>\n",
              "<style scoped>\n",
              "    .dataframe tbody tr th:only-of-type {\n",
              "        vertical-align: middle;\n",
              "    }\n",
              "\n",
              "    .dataframe tbody tr th {\n",
              "        vertical-align: top;\n",
              "    }\n",
              "\n",
              "    .dataframe thead th {\n",
              "        text-align: right;\n",
              "    }\n",
              "</style>\n",
              "<table border=\"1\" class=\"dataframe\">\n",
              "  <thead>\n",
              "    <tr style=\"text-align: right;\">\n",
              "      <th>target</th>\n",
              "      <th>Abortion Related</th>\n",
              "      <th>Airports &amp; Aircraft</th>\n",
              "      <th>Business</th>\n",
              "      <th>Educational Institution</th>\n",
              "      <th>Food or Water Supply</th>\n",
              "      <th>Government (Diplomatic)</th>\n",
              "      <th>Government (General)</th>\n",
              "      <th>Journalists &amp; Media</th>\n",
              "      <th>Maritime</th>\n",
              "      <th>Military</th>\n",
              "      <th>...</th>\n",
              "      <th>Police</th>\n",
              "      <th>Private Citizens &amp; Property</th>\n",
              "      <th>Religious Figures/Institutions</th>\n",
              "      <th>Telecommunication</th>\n",
              "      <th>Terrorists/Non-State Militia</th>\n",
              "      <th>Tourists</th>\n",
              "      <th>Transportation</th>\n",
              "      <th>Unknown</th>\n",
              "      <th>Utilities</th>\n",
              "      <th>Violent Political Party</th>\n",
              "    </tr>\n",
              "    <tr>\n",
              "      <th>nationality</th>\n",
              "      <th></th>\n",
              "      <th></th>\n",
              "      <th></th>\n",
              "      <th></th>\n",
              "      <th></th>\n",
              "      <th></th>\n",
              "      <th></th>\n",
              "      <th></th>\n",
              "      <th></th>\n",
              "      <th></th>\n",
              "      <th></th>\n",
              "      <th></th>\n",
              "      <th></th>\n",
              "      <th></th>\n",
              "      <th></th>\n",
              "      <th></th>\n",
              "      <th></th>\n",
              "      <th></th>\n",
              "      <th></th>\n",
              "      <th></th>\n",
              "      <th></th>\n",
              "    </tr>\n",
              "  </thead>\n",
              "  <tbody>\n",
              "    <tr>\n",
              "      <th>Afghanistan</th>\n",
              "      <td>NaN</td>\n",
              "      <td>59.0</td>\n",
              "      <td>389.0</td>\n",
              "      <td>327.0</td>\n",
              "      <td>13.0</td>\n",
              "      <td>36.0</td>\n",
              "      <td>1630.0</td>\n",
              "      <td>64.0</td>\n",
              "      <td>NaN</td>\n",
              "      <td>1452.0</td>\n",
              "      <td>...</td>\n",
              "      <td>3554.0</td>\n",
              "      <td>2656.0</td>\n",
              "      <td>239.0</td>\n",
              "      <td>69.0</td>\n",
              "      <td>128.0</td>\n",
              "      <td>NaN</td>\n",
              "      <td>146.0</td>\n",
              "      <td>31.0</td>\n",
              "      <td>37.0</td>\n",
              "      <td>22.0</td>\n",
              "    </tr>\n",
              "    <tr>\n",
              "      <th>Albania</th>\n",
              "      <td>NaN</td>\n",
              "      <td>NaN</td>\n",
              "      <td>9.0</td>\n",
              "      <td>2.0</td>\n",
              "      <td>NaN</td>\n",
              "      <td>6.0</td>\n",
              "      <td>32.0</td>\n",
              "      <td>3.0</td>\n",
              "      <td>NaN</td>\n",
              "      <td>1.0</td>\n",
              "      <td>...</td>\n",
              "      <td>12.0</td>\n",
              "      <td>18.0</td>\n",
              "      <td>1.0</td>\n",
              "      <td>NaN</td>\n",
              "      <td>NaN</td>\n",
              "      <td>NaN</td>\n",
              "      <td>8.0</td>\n",
              "      <td>4.0</td>\n",
              "      <td>1.0</td>\n",
              "      <td>NaN</td>\n",
              "    </tr>\n",
              "    <tr>\n",
              "      <th>Algeria</th>\n",
              "      <td>NaN</td>\n",
              "      <td>12.0</td>\n",
              "      <td>157.0</td>\n",
              "      <td>66.0</td>\n",
              "      <td>2.0</td>\n",
              "      <td>25.0</td>\n",
              "      <td>169.0</td>\n",
              "      <td>70.0</td>\n",
              "      <td>NaN</td>\n",
              "      <td>407.0</td>\n",
              "      <td>...</td>\n",
              "      <td>565.0</td>\n",
              "      <td>882.0</td>\n",
              "      <td>26.0</td>\n",
              "      <td>20.0</td>\n",
              "      <td>28.0</td>\n",
              "      <td>6.0</td>\n",
              "      <td>106.0</td>\n",
              "      <td>78.0</td>\n",
              "      <td>36.0</td>\n",
              "      <td>3.0</td>\n",
              "    </tr>\n",
              "    <tr>\n",
              "      <th>Angola</th>\n",
              "      <td>NaN</td>\n",
              "      <td>9.0</td>\n",
              "      <td>29.0</td>\n",
              "      <td>1.0</td>\n",
              "      <td>6.0</td>\n",
              "      <td>2.0</td>\n",
              "      <td>13.0</td>\n",
              "      <td>2.0</td>\n",
              "      <td>1.0</td>\n",
              "      <td>28.0</td>\n",
              "      <td>...</td>\n",
              "      <td>13.0</td>\n",
              "      <td>120.0</td>\n",
              "      <td>4.0</td>\n",
              "      <td>NaN</td>\n",
              "      <td>NaN</td>\n",
              "      <td>NaN</td>\n",
              "      <td>17.0</td>\n",
              "      <td>NaN</td>\n",
              "      <td>175.0</td>\n",
              "      <td>8.0</td>\n",
              "    </tr>\n",
              "    <tr>\n",
              "      <th>Antigua and Barbuda</th>\n",
              "      <td>NaN</td>\n",
              "      <td>NaN</td>\n",
              "      <td>NaN</td>\n",
              "      <td>NaN</td>\n",
              "      <td>NaN</td>\n",
              "      <td>NaN</td>\n",
              "      <td>1.0</td>\n",
              "      <td>NaN</td>\n",
              "      <td>NaN</td>\n",
              "      <td>NaN</td>\n",
              "      <td>...</td>\n",
              "      <td>NaN</td>\n",
              "      <td>NaN</td>\n",
              "      <td>NaN</td>\n",
              "      <td>NaN</td>\n",
              "      <td>NaN</td>\n",
              "      <td>NaN</td>\n",
              "      <td>NaN</td>\n",
              "      <td>NaN</td>\n",
              "      <td>NaN</td>\n",
              "      <td>NaN</td>\n",
              "    </tr>\n",
              "    <tr>\n",
              "      <th>...</th>\n",
              "      <td>...</td>\n",
              "      <td>...</td>\n",
              "      <td>...</td>\n",
              "      <td>...</td>\n",
              "      <td>...</td>\n",
              "      <td>...</td>\n",
              "      <td>...</td>\n",
              "      <td>...</td>\n",
              "      <td>...</td>\n",
              "      <td>...</td>\n",
              "      <td>...</td>\n",
              "      <td>...</td>\n",
              "      <td>...</td>\n",
              "      <td>...</td>\n",
              "      <td>...</td>\n",
              "      <td>...</td>\n",
              "      <td>...</td>\n",
              "      <td>...</td>\n",
              "      <td>...</td>\n",
              "      <td>...</td>\n",
              "      <td>...</td>\n",
              "    </tr>\n",
              "    <tr>\n",
              "      <th>Yugoslavia</th>\n",
              "      <td>NaN</td>\n",
              "      <td>4.0</td>\n",
              "      <td>11.0</td>\n",
              "      <td>1.0</td>\n",
              "      <td>1.0</td>\n",
              "      <td>31.0</td>\n",
              "      <td>12.0</td>\n",
              "      <td>1.0</td>\n",
              "      <td>NaN</td>\n",
              "      <td>4.0</td>\n",
              "      <td>...</td>\n",
              "      <td>26.0</td>\n",
              "      <td>19.0</td>\n",
              "      <td>3.0</td>\n",
              "      <td>NaN</td>\n",
              "      <td>NaN</td>\n",
              "      <td>5.0</td>\n",
              "      <td>6.0</td>\n",
              "      <td>NaN</td>\n",
              "      <td>1.0</td>\n",
              "      <td>NaN</td>\n",
              "    </tr>\n",
              "    <tr>\n",
              "      <th>Zaire</th>\n",
              "      <td>NaN</td>\n",
              "      <td>1.0</td>\n",
              "      <td>2.0</td>\n",
              "      <td>NaN</td>\n",
              "      <td>NaN</td>\n",
              "      <td>2.0</td>\n",
              "      <td>7.0</td>\n",
              "      <td>4.0</td>\n",
              "      <td>NaN</td>\n",
              "      <td>1.0</td>\n",
              "      <td>...</td>\n",
              "      <td>1.0</td>\n",
              "      <td>6.0</td>\n",
              "      <td>2.0</td>\n",
              "      <td>2.0</td>\n",
              "      <td>NaN</td>\n",
              "      <td>1.0</td>\n",
              "      <td>1.0</td>\n",
              "      <td>NaN</td>\n",
              "      <td>NaN</td>\n",
              "      <td>NaN</td>\n",
              "    </tr>\n",
              "    <tr>\n",
              "      <th>Zambia</th>\n",
              "      <td>NaN</td>\n",
              "      <td>NaN</td>\n",
              "      <td>5.0</td>\n",
              "      <td>NaN</td>\n",
              "      <td>2.0</td>\n",
              "      <td>1.0</td>\n",
              "      <td>6.0</td>\n",
              "      <td>2.0</td>\n",
              "      <td>NaN</td>\n",
              "      <td>NaN</td>\n",
              "      <td>...</td>\n",
              "      <td>NaN</td>\n",
              "      <td>24.0</td>\n",
              "      <td>NaN</td>\n",
              "      <td>NaN</td>\n",
              "      <td>NaN</td>\n",
              "      <td>NaN</td>\n",
              "      <td>6.0</td>\n",
              "      <td>NaN</td>\n",
              "      <td>NaN</td>\n",
              "      <td>7.0</td>\n",
              "    </tr>\n",
              "    <tr>\n",
              "      <th>Zimbabwe</th>\n",
              "      <td>NaN</td>\n",
              "      <td>NaN</td>\n",
              "      <td>14.0</td>\n",
              "      <td>NaN</td>\n",
              "      <td>1.0</td>\n",
              "      <td>1.0</td>\n",
              "      <td>20.0</td>\n",
              "      <td>5.0</td>\n",
              "      <td>NaN</td>\n",
              "      <td>7.0</td>\n",
              "      <td>...</td>\n",
              "      <td>4.0</td>\n",
              "      <td>25.0</td>\n",
              "      <td>5.0</td>\n",
              "      <td>NaN</td>\n",
              "      <td>NaN</td>\n",
              "      <td>NaN</td>\n",
              "      <td>3.0</td>\n",
              "      <td>NaN</td>\n",
              "      <td>1.0</td>\n",
              "      <td>7.0</td>\n",
              "    </tr>\n",
              "    <tr>\n",
              "      <th>not known</th>\n",
              "      <td>NaN</td>\n",
              "      <td>13.0</td>\n",
              "      <td>115.0</td>\n",
              "      <td>5.0</td>\n",
              "      <td>2.0</td>\n",
              "      <td>14.0</td>\n",
              "      <td>22.0</td>\n",
              "      <td>10.0</td>\n",
              "      <td>7.0</td>\n",
              "      <td>9.0</td>\n",
              "      <td>...</td>\n",
              "      <td>7.0</td>\n",
              "      <td>274.0</td>\n",
              "      <td>20.0</td>\n",
              "      <td>3.0</td>\n",
              "      <td>5.0</td>\n",
              "      <td>14.0</td>\n",
              "      <td>29.0</td>\n",
              "      <td>993.0</td>\n",
              "      <td>6.0</td>\n",
              "      <td>2.0</td>\n",
              "    </tr>\n",
              "  </tbody>\n",
              "</table>\n",
              "<p>216 rows × 22 columns</p>\n",
              "</div>\n",
              "      <button class=\"colab-df-convert\" onclick=\"convertToInteractive('df-56cf48e4-ce86-474f-bc56-c19ea1cf47c9')\"\n",
              "              title=\"Convert this dataframe to an interactive table.\"\n",
              "              style=\"display:none;\">\n",
              "        \n",
              "  <svg xmlns=\"http://www.w3.org/2000/svg\" height=\"24px\"viewBox=\"0 0 24 24\"\n",
              "       width=\"24px\">\n",
              "    <path d=\"M0 0h24v24H0V0z\" fill=\"none\"/>\n",
              "    <path d=\"M18.56 5.44l.94 2.06.94-2.06 2.06-.94-2.06-.94-.94-2.06-.94 2.06-2.06.94zm-11 1L8.5 8.5l.94-2.06 2.06-.94-2.06-.94L8.5 2.5l-.94 2.06-2.06.94zm10 10l.94 2.06.94-2.06 2.06-.94-2.06-.94-.94-2.06-.94 2.06-2.06.94z\"/><path d=\"M17.41 7.96l-1.37-1.37c-.4-.4-.92-.59-1.43-.59-.52 0-1.04.2-1.43.59L10.3 9.45l-7.72 7.72c-.78.78-.78 2.05 0 2.83L4 21.41c.39.39.9.59 1.41.59.51 0 1.02-.2 1.41-.59l7.78-7.78 2.81-2.81c.8-.78.8-2.07 0-2.86zM5.41 20L4 18.59l7.72-7.72 1.47 1.35L5.41 20z\"/>\n",
              "  </svg>\n",
              "      </button>\n",
              "      \n",
              "  <style>\n",
              "    .colab-df-container {\n",
              "      display:flex;\n",
              "      flex-wrap:wrap;\n",
              "      gap: 12px;\n",
              "    }\n",
              "\n",
              "    .colab-df-convert {\n",
              "      background-color: #E8F0FE;\n",
              "      border: none;\n",
              "      border-radius: 50%;\n",
              "      cursor: pointer;\n",
              "      display: none;\n",
              "      fill: #1967D2;\n",
              "      height: 32px;\n",
              "      padding: 0 0 0 0;\n",
              "      width: 32px;\n",
              "    }\n",
              "\n",
              "    .colab-df-convert:hover {\n",
              "      background-color: #E2EBFA;\n",
              "      box-shadow: 0px 1px 2px rgba(60, 64, 67, 0.3), 0px 1px 3px 1px rgba(60, 64, 67, 0.15);\n",
              "      fill: #174EA6;\n",
              "    }\n",
              "\n",
              "    [theme=dark] .colab-df-convert {\n",
              "      background-color: #3B4455;\n",
              "      fill: #D2E3FC;\n",
              "    }\n",
              "\n",
              "    [theme=dark] .colab-df-convert:hover {\n",
              "      background-color: #434B5C;\n",
              "      box-shadow: 0px 1px 3px 1px rgba(0, 0, 0, 0.15);\n",
              "      filter: drop-shadow(0px 1px 2px rgba(0, 0, 0, 0.3));\n",
              "      fill: #FFFFFF;\n",
              "    }\n",
              "  </style>\n",
              "\n",
              "      <script>\n",
              "        const buttonEl =\n",
              "          document.querySelector('#df-56cf48e4-ce86-474f-bc56-c19ea1cf47c9 button.colab-df-convert');\n",
              "        buttonEl.style.display =\n",
              "          google.colab.kernel.accessAllowed ? 'block' : 'none';\n",
              "\n",
              "        async function convertToInteractive(key) {\n",
              "          const element = document.querySelector('#df-56cf48e4-ce86-474f-bc56-c19ea1cf47c9');\n",
              "          const dataTable =\n",
              "            await google.colab.kernel.invokeFunction('convertToInteractive',\n",
              "                                                     [key], {});\n",
              "          if (!dataTable) return;\n",
              "\n",
              "          const docLinkHtml = 'Like what you see? Visit the ' +\n",
              "            '<a target=\"_blank\" href=https://colab.research.google.com/notebooks/data_table.ipynb>data table notebook</a>'\n",
              "            + ' to learn more about interactive tables.';\n",
              "          element.innerHTML = '';\n",
              "          dataTable['output_type'] = 'display_data';\n",
              "          await google.colab.output.renderOutput(dataTable, element);\n",
              "          const docLink = document.createElement('div');\n",
              "          docLink.innerHTML = docLinkHtml;\n",
              "          element.appendChild(docLink);\n",
              "        }\n",
              "      </script>\n",
              "    </div>\n",
              "  </div>\n",
              "  "
            ],
            "text/plain": [
              "target               Abortion Related  Airports & Aircraft  Business  \\\n",
              "nationality                                                            \n",
              "Afghanistan                       NaN                 59.0     389.0   \n",
              "Albania                           NaN                  NaN       9.0   \n",
              "Algeria                           NaN                 12.0     157.0   \n",
              "Angola                            NaN                  9.0      29.0   \n",
              "Antigua and Barbuda               NaN                  NaN       NaN   \n",
              "...                               ...                  ...       ...   \n",
              "Yugoslavia                        NaN                  4.0      11.0   \n",
              "Zaire                             NaN                  1.0       2.0   \n",
              "Zambia                            NaN                  NaN       5.0   \n",
              "Zimbabwe                          NaN                  NaN      14.0   \n",
              "not known                         NaN                 13.0     115.0   \n",
              "\n",
              "target               Educational Institution  Food or Water Supply  \\\n",
              "nationality                                                          \n",
              "Afghanistan                            327.0                  13.0   \n",
              "Albania                                  2.0                   NaN   \n",
              "Algeria                                 66.0                   2.0   \n",
              "Angola                                   1.0                   6.0   \n",
              "Antigua and Barbuda                      NaN                   NaN   \n",
              "...                                      ...                   ...   \n",
              "Yugoslavia                               1.0                   1.0   \n",
              "Zaire                                    NaN                   NaN   \n",
              "Zambia                                   NaN                   2.0   \n",
              "Zimbabwe                                 NaN                   1.0   \n",
              "not known                                5.0                   2.0   \n",
              "\n",
              "target               Government (Diplomatic)  Government (General)  \\\n",
              "nationality                                                          \n",
              "Afghanistan                             36.0                1630.0   \n",
              "Albania                                  6.0                  32.0   \n",
              "Algeria                                 25.0                 169.0   \n",
              "Angola                                   2.0                  13.0   \n",
              "Antigua and Barbuda                      NaN                   1.0   \n",
              "...                                      ...                   ...   \n",
              "Yugoslavia                              31.0                  12.0   \n",
              "Zaire                                    2.0                   7.0   \n",
              "Zambia                                   1.0                   6.0   \n",
              "Zimbabwe                                 1.0                  20.0   \n",
              "not known                               14.0                  22.0   \n",
              "\n",
              "target               Journalists & Media  Maritime  Military  ...  Police  \\\n",
              "nationality                                                   ...           \n",
              "Afghanistan                         64.0       NaN    1452.0  ...  3554.0   \n",
              "Albania                              3.0       NaN       1.0  ...    12.0   \n",
              "Algeria                             70.0       NaN     407.0  ...   565.0   \n",
              "Angola                               2.0       1.0      28.0  ...    13.0   \n",
              "Antigua and Barbuda                  NaN       NaN       NaN  ...     NaN   \n",
              "...                                  ...       ...       ...  ...     ...   \n",
              "Yugoslavia                           1.0       NaN       4.0  ...    26.0   \n",
              "Zaire                                4.0       NaN       1.0  ...     1.0   \n",
              "Zambia                               2.0       NaN       NaN  ...     NaN   \n",
              "Zimbabwe                             5.0       NaN       7.0  ...     4.0   \n",
              "not known                           10.0       7.0       9.0  ...     7.0   \n",
              "\n",
              "target               Private Citizens & Property  \\\n",
              "nationality                                        \n",
              "Afghanistan                               2656.0   \n",
              "Albania                                     18.0   \n",
              "Algeria                                    882.0   \n",
              "Angola                                     120.0   \n",
              "Antigua and Barbuda                          NaN   \n",
              "...                                          ...   \n",
              "Yugoslavia                                  19.0   \n",
              "Zaire                                        6.0   \n",
              "Zambia                                      24.0   \n",
              "Zimbabwe                                    25.0   \n",
              "not known                                  274.0   \n",
              "\n",
              "target               Religious Figures/Institutions  Telecommunication  \\\n",
              "nationality                                                              \n",
              "Afghanistan                                   239.0               69.0   \n",
              "Albania                                         1.0                NaN   \n",
              "Algeria                                        26.0               20.0   \n",
              "Angola                                          4.0                NaN   \n",
              "Antigua and Barbuda                             NaN                NaN   \n",
              "...                                             ...                ...   \n",
              "Yugoslavia                                      3.0                NaN   \n",
              "Zaire                                           2.0                2.0   \n",
              "Zambia                                          NaN                NaN   \n",
              "Zimbabwe                                        5.0                NaN   \n",
              "not known                                      20.0                3.0   \n",
              "\n",
              "target               Terrorists/Non-State Militia  Tourists  Transportation  \\\n",
              "nationality                                                                   \n",
              "Afghanistan                                 128.0       NaN           146.0   \n",
              "Albania                                       NaN       NaN             8.0   \n",
              "Algeria                                      28.0       6.0           106.0   \n",
              "Angola                                        NaN       NaN            17.0   \n",
              "Antigua and Barbuda                           NaN       NaN             NaN   \n",
              "...                                           ...       ...             ...   \n",
              "Yugoslavia                                    NaN       5.0             6.0   \n",
              "Zaire                                         NaN       1.0             1.0   \n",
              "Zambia                                        NaN       NaN             6.0   \n",
              "Zimbabwe                                      NaN       NaN             3.0   \n",
              "not known                                     5.0      14.0            29.0   \n",
              "\n",
              "target               Unknown  Utilities  Violent Political Party  \n",
              "nationality                                                       \n",
              "Afghanistan             31.0       37.0                     22.0  \n",
              "Albania                  4.0        1.0                      NaN  \n",
              "Algeria                 78.0       36.0                      3.0  \n",
              "Angola                   NaN      175.0                      8.0  \n",
              "Antigua and Barbuda      NaN        NaN                      NaN  \n",
              "...                      ...        ...                      ...  \n",
              "Yugoslavia               NaN        1.0                      NaN  \n",
              "Zaire                    NaN        NaN                      NaN  \n",
              "Zambia                   NaN        NaN                      7.0  \n",
              "Zimbabwe                 NaN        1.0                      7.0  \n",
              "not known              993.0        6.0                      2.0  \n",
              "\n",
              "[216 rows x 22 columns]"
            ]
          },
          "execution_count": 123,
          "metadata": {},
          "output_type": "execute_result"
        }
      ],
      "source": [
        "x=database.groupby(['nationality','target'])['nationality'].count().unstack()\n",
        "x"
      ]
    },
    {
      "cell_type": "code",
      "execution_count": null,
      "metadata": {
        "colab": {
          "base_uri": "https://localhost:8080/"
        },
        "id": "FWkN8virKXdH",
        "outputId": "eb20d976-d209-41d2-afc7-9effb5dd017f"
      },
      "outputs": [
        {
          "data": {
            "text/plain": [
              "nationality  target                 \n",
              "Afghanistan  Airports & Aircraft         59\n",
              "             Business                   389\n",
              "             Educational Institution    327\n",
              "             Food or Water Supply        13\n",
              "             Government (Diplomatic)     36\n",
              "                                       ... \n",
              "not known    Tourists                    14\n",
              "             Transportation              29\n",
              "             Unknown                    993\n",
              "             Utilities                    6\n",
              "             Violent Political Party      2\n",
              "Name: nationality, Length: 2393, dtype: int64"
            ]
          },
          "execution_count": 124,
          "metadata": {},
          "output_type": "execute_result"
        }
      ],
      "source": [
        "y=database.groupby(['nationality','target'])['nationality'].count()\n",
        "y"
      ]
    },
    {
      "cell_type": "code",
      "execution_count": null,
      "metadata": {
        "colab": {
          "base_uri": "https://localhost:8080/"
        },
        "id": "kX_J_i8OK3Jy",
        "outputId": "0b26b497-8377-4b16-f314-039e1d6e798e"
      },
      "outputs": [
        {
          "data": {
            "text/plain": [
              "Index(['Abortion Related', 'Airports & Aircraft', 'Business',\n",
              "       'Educational Institution', 'Food or Water Supply',\n",
              "       'Government (Diplomatic)', 'Government (General)',\n",
              "       'Journalists & Media', 'Maritime', 'Military', 'NGO', 'Other', 'Police',\n",
              "       'Private Citizens & Property', 'Religious Figures/Institutions',\n",
              "       'Telecommunication', 'Terrorists/Non-State Militia', 'Tourists',\n",
              "       'Transportation', 'Unknown', 'Utilities', 'Violent Political Party'],\n",
              "      dtype='object', name='target')"
            ]
          },
          "execution_count": 125,
          "metadata": {},
          "output_type": "execute_result"
        }
      ],
      "source": [
        "x.columns"
      ]
    },
    {
      "cell_type": "code",
      "execution_count": null,
      "metadata": {
        "colab": {
          "background_save": true
        },
        "id": "s9aJ6IqCLYub",
        "outputId": "7784e5c8-5f3c-4883-a6d2-9bb0b1b5ab13"
      },
      "outputs": [
        {
          "data": {
            "image/png": "[encoded data removed]",
            "text/plain": [
              "<Figure size 720x720 with 1 Axes>"
            ]
          },
          "metadata": {},
          "output_type": "display_data"
        }
      ],
      "source": [
        "x.plot( kind='bar', stacked=True,title='Stacked Bar Graph by dataframe')\n",
        "plt.rcParams['figure.figsize'] = [100,80]\n",
        "plt.show()"
      ]
    },
    {
      "cell_type": "markdown",
      "metadata": {
        "id": "FPGMQgbBFZMz"
      },
      "source": [
        "**CONCLUSION**"
      ]
    },
    {
      "cell_type": "markdown",
      "metadata": {
        "id": "0Mq3KtBQTlIm"
      },
      "source": [
        "The goal of this project was to understand and\n",
        "interpret the nature of terrorism.\n",
        "After doing the analysis we founded the following insights from the database\n",
        "\n",
        "\n",
        "1. TALIBAN is the most active organisation who is taking responsibility of many of the attacks that had happened in the world.\n",
        "\n",
        "2. IRAQ is the most affected by the attacks,so security groups should be extra cautious in this country.\n",
        "\n",
        "1. IN 2014,maximum number of attacks has taken palce in the world,so it was the dark year of terrorism.\n",
        "\n",
        "2.   IT is seen from the database that the explosives were majorly used by the\n",
        "terrorist groups for the attacks.so security groups should try to  locate  their sources from where they acquire this explosives.\n",
        "\n",
        "1.  After doing the analysis we founded that that citizens are the major targets of the terrorist group ,and the noticable part is that IRAQ is most affected by the terrorist groups,and maximum number of member of terrorist group belong to the nationality of IRAQ.\n",
        "\n",
        "\n",
        "\n",
        "\n",
        "\n",
        "\n",
        "\n",
        "\n"
      ]
    },
    {
      "cell_type": "code",
      "source": [],
      "metadata": {
        "id": "8ElJLGuVA2jf"
      },
      "execution_count": null,
      "outputs": []
    }
  ],
  "metadata": {
    "colab": {
      "provenance": [],
      "include_colab_link": true
    },
    "kernelspec": {
      "display_name": "Python 3",
      "language": "python",
      "name": "python3"
    },
    "language_info": {
      "codemirror_mode": {
        "name": "ipython",
        "version": 3
      },
      "file_extension": ".py",
      "mimetype": "text/x-python",
      "name": "python",
      "nbconvert_exporter": "python",
      "pygments_lexer": "ipython3",
      "version": "3.6.6"
    }
  },
  "nbformat": 4,
  "nbformat_minor": 0
}